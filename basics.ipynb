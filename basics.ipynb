{
 "cells": [
  {
   "cell_type": "code",
   "execution_count": 1,
   "metadata": {},
   "outputs": [
    {
     "ename": "SyntaxError",
     "evalue": "invalid syntax (552835449.py, line 1)",
     "output_type": "error",
     "traceback": [
      "\u001b[1;36m  Cell \u001b[1;32mIn[1], line 1\u001b[1;36m\u001b[0m\n\u001b[1;33m    Anshika Singh\u001b[0m\n\u001b[1;37m            ^\u001b[0m\n\u001b[1;31mSyntaxError\u001b[0m\u001b[1;31m:\u001b[0m invalid syntax\n"
     ]
    }
   ],
   "source": [
    "Anshika Singh"
   ]
  },
  {
   "cell_type": "markdown",
   "metadata": {},
   "source": [
    "# Basics\n",
    "- operators\n",
    "   - arithmetic operator\n",
    "   - assignment operator\n",
    "   - comparison operator\n",
    "   - logical operator\n",
    "   - identity operator\n",
    "   - membership operator\n",
    "   - bitwise operator \n",
    "- variables\n",
    "- datatypes\n",
    "- keywords\n",
    "- io"
   ]
  },
  {
   "cell_type": "code",
   "execution_count": 2,
   "metadata": {},
   "outputs": [
    {
     "data": {
      "text/plain": [
       "4"
      ]
     },
     "execution_count": 2,
     "metadata": {},
     "output_type": "execute_result"
    }
   ],
   "source": [
    "2 + 2"
   ]
  },
  {
   "cell_type": "code",
   "execution_count": 3,
   "metadata": {},
   "outputs": [
    {
     "data": {
      "text/plain": [
       "50690189465691552636"
      ]
     },
     "execution_count": 3,
     "metadata": {},
     "output_type": "execute_result"
    }
   ],
   "source": [
    "5335525242443454656 +45354664223248097980"
   ]
  },
  {
   "cell_type": "markdown",
   "metadata": {},
   "source": [
    "arithmetic operator\n",
    "  '* / // ** %'\n",
    "    + - "
   ]
  },
  {
   "cell_type": "code",
   "execution_count": 4,
   "metadata": {},
   "outputs": [
    {
     "data": {
      "text/plain": [
       "3.3333333333333335"
      ]
     },
     "execution_count": 4,
     "metadata": {},
     "output_type": "execute_result"
    }
   ],
   "source": [
    "10/3"
   ]
  },
  {
   "cell_type": "code",
   "execution_count": 5,
   "metadata": {},
   "outputs": [
    {
     "data": {
      "text/plain": [
       "3"
      ]
     },
     "execution_count": 5,
     "metadata": {},
     "output_type": "execute_result"
    }
   ],
   "source": [
    "10//3"
   ]
  },
  {
   "cell_type": "markdown",
   "metadata": {},
   "source": [
    "assignment operator\n",
    "  ' = += -= *= /= //= %= **='\n",
    "  \n",
    "  "
   ]
  },
  {
   "cell_type": "code",
   "execution_count": 4,
   "metadata": {},
   "outputs": [],
   "source": [
    "x = 101\n",
    "y = 2.3910\n",
    "z = False\n",
    "a = None\n",
    "c = False"
   ]
  },
  {
   "cell_type": "code",
   "execution_count": 23,
   "metadata": {},
   "outputs": [],
   "source": [
    "x = 5       # direct assignment\n",
    "x += 10      # update assignment\n",
    "x -= 2\n",
    "x *= 3\n",
    "name = \"Anshika Singh\"\n",
    "name +=\"😊\""
   ]
  },
  {
   "cell_type": "code",
   "execution_count": 24,
   "metadata": {},
   "outputs": [],
   "source": [
    "a =12\n",
    "b = 13\n",
    "c = a + b"
   ]
  },
  {
   "cell_type": "markdown",
   "metadata": {},
   "source": [
    "conditional operator\n",
    "   <   >\n",
    "   <=  >=\n",
    "   == !=\n",
    "\n",
    "   \n",
    "   "
   ]
  },
  {
   "cell_type": "code",
   "execution_count": 7,
   "metadata": {},
   "outputs": [
    {
     "data": {
      "text/plain": [
       "False"
      ]
     },
     "execution_count": 7,
     "metadata": {},
     "output_type": "execute_result"
    }
   ],
   "source": [
    "a > 12"
   ]
  },
  {
   "cell_type": "code",
   "execution_count": 8,
   "metadata": {},
   "outputs": [
    {
     "data": {
      "text/plain": [
       "False"
      ]
     },
     "execution_count": 8,
     "metadata": {},
     "output_type": "execute_result"
    }
   ],
   "source": [
    "a < 12"
   ]
  },
  {
   "cell_type": "code",
   "execution_count": 9,
   "metadata": {},
   "outputs": [
    {
     "data": {
      "text/plain": [
       "True"
      ]
     },
     "execution_count": 9,
     "metadata": {},
     "output_type": "execute_result"
    }
   ],
   "source": [
    "a > 10"
   ]
  },
  {
   "cell_type": "code",
   "execution_count": 10,
   "metadata": {},
   "outputs": [
    {
     "data": {
      "text/plain": [
       "True"
      ]
     },
     "execution_count": 10,
     "metadata": {},
     "output_type": "execute_result"
    }
   ],
   "source": [
    "a < b"
   ]
  },
  {
   "cell_type": "code",
   "execution_count": 11,
   "metadata": {},
   "outputs": [
    {
     "data": {
      "text/plain": [
       "False"
      ]
     },
     "execution_count": 11,
     "metadata": {},
     "output_type": "execute_result"
    }
   ],
   "source": [
    "a > b"
   ]
  },
  {
   "cell_type": "code",
   "execution_count": 15,
   "metadata": {},
   "outputs": [],
   "source": [
    "b = 3"
   ]
  },
  {
   "cell_type": "code",
   "execution_count": 13,
   "metadata": {},
   "outputs": [
    {
     "data": {
      "text/plain": [
       "False"
      ]
     },
     "execution_count": 13,
     "metadata": {},
     "output_type": "execute_result"
    }
   ],
   "source": [
    "a < b > 10"
   ]
  },
  {
   "cell_type": "code",
   "execution_count": 14,
   "metadata": {},
   "outputs": [
    {
     "data": {
      "text/plain": [
       "False"
      ]
     },
     "execution_count": 14,
     "metadata": {},
     "output_type": "execute_result"
    }
   ],
   "source": [
    "a < b < 10"
   ]
  },
  {
   "cell_type": "markdown",
   "metadata": {},
   "source": [
    "logical operator\n",
    " - and\n",
    " -  or\n",
    "  - not"
   ]
  },
  {
   "cell_type": "code",
   "execution_count": 16,
   "metadata": {},
   "outputs": [
    {
     "data": {
      "text/plain": [
       "True"
      ]
     },
     "execution_count": 16,
     "metadata": {},
     "output_type": "execute_result"
    }
   ],
   "source": [
    "a = 10\n",
    "b = 20\n",
    "a < b and b < 30"
   ]
  },
  {
   "cell_type": "code",
   "execution_count": 17,
   "metadata": {},
   "outputs": [
    {
     "name": "stdout",
     "output_type": "stream",
     "text": [
      "True\n",
      "False\n",
      "True\n"
     ]
    }
   ],
   "source": [
    "print(a < b and b < 30)\n",
    "print(a > b or b > 20)\n",
    "print(not a > b)"
   ]
  },
  {
   "cell_type": "code",
   "execution_count": 18,
   "metadata": {},
   "outputs": [
    {
     "name": "stdout",
     "output_type": "stream",
     "text": [
      "True\n",
      "False\n",
      "True\n",
      "False\n"
     ]
    }
   ],
   "source": [
    "fruits = ['apple','banana','cherry']\n",
    "print('apple' in fruits)\n",
    "print('orange' in fruits)\n",
    "print('orange' not in fruits)\n",
    "print('banana' not in fruits)"
   ]
  },
  {
   "cell_type": "code",
   "execution_count": 19,
   "metadata": {},
   "outputs": [
    {
     "name": "stdout",
     "output_type": "stream",
     "text": [
      "20 20\n",
      "True\n",
      "True\n",
      "True\n",
      "True\n"
     ]
    }
   ],
   "source": [
    "x = 20\n",
    "y = x\n",
    "print(x,y)\n",
    "print(x == y)  # value equality\n",
    "print(x is y)   # reference equality\n",
    "name =\"Anshika\"\n",
    "name2 = \"Anshika\"\n",
    "print(name == name2)\n",
    "print(name is name2)"
   ]
  },
  {
   "cell_type": "code",
   "execution_count": 21,
   "metadata": {},
   "outputs": [
    {
     "name": "stdout",
     "output_type": "stream",
     "text": [
      "True\n",
      "False\n",
      "True\n",
      "True\n"
     ]
    }
   ],
   "source": [
    "x =[1, 2, 3]\n",
    "y = x # reference copy\n",
    "z = x.copy() # value copy\n",
    "print(x is y)\n",
    "print(x is z)\n",
    "print(x == z)\n",
    "print(x == y)"
   ]
  },
  {
   "cell_type": "markdown",
   "metadata": {},
   "source": [
    "Datatypes (9)\n",
    "- integers 'int'\n",
    "- float    'float'\n",
    "- boolean   'bool'\n",
    "- None      'None Type'\n",
    "- string     'str'\n",
    "- list        'list'\n",
    "- tuple   'tuple'\n",
    "- set     'set'\n",
    "- dictionary   'dict'"
   ]
  },
  {
   "cell_type": "code",
   "execution_count": 22,
   "metadata": {},
   "outputs": [],
   "source": [
    "coords = (10,20,32)\n",
    "names = {\"Alex\",\"Alan\",\"Alice\",\"Arti\"}\n",
    "info = {'name': 'Anshika','age': 20, 'city': \"Kanpur\"}"
   ]
  },
  {
   "cell_type": "code",
   "execution_count": 25,
   "metadata": {},
   "outputs": [],
   "source": [
    "del x # delete x from the memory"
   ]
  },
  {
   "cell_type": "code",
   "execution_count": 10,
   "metadata": {},
   "outputs": [
    {
     "data": {
      "text/plain": [
       "6294.0"
      ]
     },
     "execution_count": 10,
     "metadata": {},
     "output_type": "execute_result"
    }
   ],
   "source": [
    "p = 12000\n",
    "r = 10.49\n",
    "t = 5\n",
    "si = p*r*t/100\n",
    "si"
   ]
  },
  {
   "cell_type": "markdown",
   "metadata": {},
   "source": [
    "example ans = input(\"prompt\")"
   ]
  },
  {
   "cell_type": "code",
   "execution_count": 11,
   "metadata": {},
   "outputs": [
    {
     "data": {
      "text/plain": [
       "'anshika'"
      ]
     },
     "execution_count": 11,
     "metadata": {},
     "output_type": "execute_result"
    }
   ],
   "source": [
    "input(\"Enter your name\")"
   ]
  },
  {
   "cell_type": "code",
   "execution_count": 2,
   "metadata": {},
   "outputs": [],
   "source": [
    "name = input('Enter your name')\n",
    "city = input('Enter your city')\n",
    "color = input('Enter your favorite color') \n",
    "fruit = input('Enter your favorite fruit')\n",
    "luckynum = input('Enter your lucky number')"
   ]
  },
  {
   "cell_type": "code",
   "execution_count": 15,
   "metadata": {},
   "outputs": [
    {
     "name": "stdout",
     "output_type": "stream",
     "text": [
      "5060\n"
     ]
    }
   ],
   "source": [
    "a = input('enter a number')\n",
    "b = input('enter a number')\n",
    "print(a+b)"
   ]
  },
  {
   "cell_type": "markdown",
   "metadata": {},
   "source": [
    "typecasting\n",
    "\n",
    "from one datatype => another\n",
    "str => int(variable) => int"
   ]
  },
  {
   "cell_type": "code",
   "execution_count": 6,
   "metadata": {},
   "outputs": [
    {
     "data": {
      "text/plain": [
       "12.2"
      ]
     },
     "execution_count": 6,
     "metadata": {},
     "output_type": "execute_result"
    }
   ],
   "source": [
    "float(\"12.20\")"
   ]
  },
  {
   "cell_type": "code",
   "execution_count": 7,
   "metadata": {},
   "outputs": [
    {
     "name": "stdout",
     "output_type": "stream",
     "text": [
      "<class 'int'>\n",
      "<class 'str'>\n",
      "<class 'str'>\n",
      "<class 'float'>\n"
     ]
    }
   ],
   "source": [
    "a = 10\n",
    "b = \"10\"\n",
    "c = \"10.20\"\n",
    "d = 10.20\n",
    "print(type(a))\n",
    "print(type(b))\n",
    "print(type(c))\n",
    "print(type(d))"
   ]
  },
  {
   "cell_type": "code",
   "execution_count": 8,
   "metadata": {},
   "outputs": [
    {
     "name": "stdout",
     "output_type": "stream",
     "text": [
      "10.0\n",
      "10\n",
      "True\n"
     ]
    }
   ],
   "source": [
    "print(float(a))\n",
    "print(str(a))\n",
    "print(bool(a))"
   ]
  },
  {
   "cell_type": "code",
   "execution_count": 16,
   "metadata": {},
   "outputs": [
    {
     "name": "stdout",
     "output_type": "stream",
     "text": [
      "110\n"
     ]
    }
   ],
   "source": [
    "a = input('enter a number')\n",
    "b = input('enter a number')\n",
    "c = int(a) + int(b)\n",
    "print(c)"
   ]
  },
  {
   "cell_type": "code",
   "execution_count": 17,
   "metadata": {},
   "outputs": [
    {
     "name": "stdout",
     "output_type": "stream",
     "text": [
      "110\n"
     ]
    }
   ],
   "source": [
    "a = int(input('enter a number'))\n",
    "b = int(input('enter a number'))\n",
    "c = a + b\n",
    "print(c)"
   ]
  },
  {
   "cell_type": "code",
   "execution_count": 19,
   "metadata": {},
   "outputs": [
    {
     "name": "stdout",
     "output_type": "stream",
     "text": [
      "6294.0\n"
     ]
    }
   ],
   "source": [
    "p = int(input('enter a number'))\n",
    "r = float(input('enter a number'))\n",
    "t = int(input('enter a number'))\n",
    "si = p*r*t/100\n",
    "print(si)"
   ]
  },
  {
   "cell_type": "markdown",
   "metadata": {},
   "source": [
    "formatted output\n",
    "answer: 12 - 3 = 9"
   ]
  },
  {
   "cell_type": "code",
   "execution_count": 12,
   "metadata": {},
   "outputs": [
    {
     "name": "stdout",
     "output_type": "stream",
     "text": [
      "answer: 12 - 3 = 9\n"
     ]
    }
   ],
   "source": [
    "a = 12\n",
    "b = 3\n",
    "c = a - b\n",
    "print(\"answer:\", a, '-', b, '=', c)"
   ]
  },
  {
   "cell_type": "code",
   "execution_count": 20,
   "metadata": {},
   "outputs": [
    {
     "name": "stdout",
     "output_type": "stream",
     "text": [
      "50👍🤞60👍🤞110👍🤞10.2\n"
     ]
    }
   ],
   "source": [
    "print(a,b,c,d, sep=\"👍🤞\")"
   ]
  },
  {
   "cell_type": "code",
   "execution_count": 5,
   "metadata": {},
   "outputs": [
    {
     "name": "stdout",
     "output_type": "stream",
     "text": [
      "h_e_l_l_o\n",
      "apple, banana, cherry\n"
     ]
    }
   ],
   "source": [
    "print(*'hello',sep ='_')  # advance version(not to be discussed)\n",
    "fruits = ['apple','banana','cherry']\n",
    "print(*fruits, sep =', ')  # advance version(not to be discussed)"
   ]
  },
  {
   "cell_type": "markdown",
   "metadata": {},
   "source": [
    "string interpolation for formatted output"
   ]
  },
  {
   "cell_type": "code",
   "execution_count": 21,
   "metadata": {},
   "outputs": [
    {
     "name": "stdout",
     "output_type": "stream",
     "text": [
      "answer: 12 - 3 = 9\n",
      "answer:12 - 3 = 9\n"
     ]
    }
   ],
   "source": [
    "a = 12\n",
    "b = 3\n",
    "c = a - b\n",
    "print(\"answer:\", a, '-', b, '=', c)\n",
    "print(f\"answer:{a} - {b} = {c}\")"
   ]
  },
  {
   "cell_type": "code",
   "execution_count": 4,
   "metadata": {},
   "outputs": [
    {
     "name": "stdout",
     "output_type": "stream",
     "text": [
      "simple interest calculator\n",
      "Principle = 12000 rupees\n",
      "Rate = 10.49 %\n",
      "Time = 5 yrs\n",
      "_______________\n",
      "Simple interest = 6294.0\n"
     ]
    }
   ],
   "source": [
    "p = int(input(\"enter ur principle\"))\n",
    "r = float(input(\"enter ur rate\"))\n",
    "t = int(input(\"enter ur time\"))\n",
    "si = p*r*t/100\n",
    "print(\"simple interest calculator\")\n",
    "print(\"Principle =\",p,'rupees')\n",
    "print(\"Rate =\",r,'%')\n",
    "print(\"Time =\",t,'yrs')\n",
    "print('_'* 15)\n",
    "print(\"Simple interest =\",si)"
   ]
  },
  {
   "cell_type": "code",
   "execution_count": 22,
   "metadata": {},
   "outputs": [
    {
     "name": "stdout",
     "output_type": "stream",
     "text": [
      "Area of Triangle\n",
      "Base = 20 cm\n",
      "Height = 20 cm\n",
      "_______________\n",
      "Area = 200.0 cm\n"
     ]
    }
   ],
   "source": [
    "# area of triangle\n",
    "b = int(input(\"enter the base of the triangle\"))\n",
    "h = int(input(\"enter the height of the triangle\"))\n",
    "area = 1/2*b*h\n",
    "print(\"Area of Triangle\")\n",
    "print(f'Base = {b} cm')\n",
    "print(f'Height = {h} cm')\n",
    "print('_'*15)\n",
    "print(f'Area = {area} cm')\n"
   ]
  },
  {
   "cell_type": "code",
   "execution_count": 1,
   "metadata": {},
   "outputs": [
    {
     "name": "stdout",
     "output_type": "stream",
     "text": [
      "3\n",
      "3.3\n",
      "3.33\n",
      "3.333\n"
     ]
    }
   ],
   "source": [
    "# round function should be used with expression\n",
    "print(round(10/3))\n",
    "print(round(10/3,1))\n",
    "print(round(10/3,2))\n",
    "print(round(10/3,3))"
   ]
  },
  {
   "cell_type": "code",
   "execution_count": 4,
   "metadata": {},
   "outputs": [
    {
     "name": "stdout",
     "output_type": "stream",
     "text": [
      "10 divided by 7 is 1.4285714285714286\n",
      "10 divided by 7 is 1.4\n",
      "10 divided by 7 is 1.43\n",
      "10 divided by 7 is 1.429\n"
     ]
    }
   ],
   "source": [
    "a = 10\n",
    "b = 7\n",
    "print(f'{a} divided by {b} is {a/b}')\n",
    "print(f'{a} divided by {b} is {a/b:.1f}')\n",
    "print(f'{a} divided by {b} is {a/b:.2f}')\n",
    "print(f'{a} divided by {b} is {a/b:.3f}')"
   ]
  },
  {
   "cell_type": "code",
   "execution_count": 2,
   "metadata": {},
   "outputs": [
    {
     "name": "stdout",
     "output_type": "stream",
     "text": [
      "                        The final empire |  Brandon Sanderson   | 499\n",
      "                          The art of war |       Sun Tzu        | 239\n",
      "   Stormlight Archives: The way of kings |  Brandon Sanderson   | 550\n"
     ]
    }
   ],
   "source": [
    "# text alignment\n",
    "n1 = \"The final empire\"\n",
    "a1 = 'Brandon Sanderson'\n",
    "p1 = 499\n",
    "n2 = 'The art of war'\n",
    "a2 = 'Sun Tzu'\n",
    "p2 = 239\n",
    "n3 = 'Stormlight Archives: The way of kings'\n",
    "a3 = 'Brandon Sanderson'\n",
    "p3 = 550\n",
    "\n",
    "print(f'{n1:>40} | {a1:^20} | {p1}')\n",
    "print(f'{n2:>40} | {a2:^20} | {p2}')\n",
    "print(f'{n3:>40} | {a3:^20} | {p3}')\n"
   ]
  },
  {
   "cell_type": "code",
   "execution_count": null,
   "metadata": {},
   "outputs": [],
   "source": []
  }
 ],
 "metadata": {
  "kernelspec": {
   "display_name": "base",
   "language": "python",
   "name": "python3"
  },
  "language_info": {
   "codemirror_mode": {
    "name": "ipython",
    "version": 3
   },
   "file_extension": ".py",
   "mimetype": "text/x-python",
   "name": "python",
   "nbconvert_exporter": "python",
   "pygments_lexer": "ipython3",
   "version": "3.12.3"
  }
 },
 "nbformat": 4,
 "nbformat_minor": 2
}
