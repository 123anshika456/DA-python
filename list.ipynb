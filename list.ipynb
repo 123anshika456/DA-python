{
 "cells": [
  {
   "cell_type": "markdown",
   "metadata": {},
   "source": [
    " list\n",
    "- create\n",
    "- indexing and slicing\n",
    "- methods\n",
    "    - append()\n",
    "    - insert()\n",
    "    - extend()\n",
    "    - remove()\n",
    "    - clear()\n",
    "    - pop()\n",
    "    - count()\n",
    "    - reverse()\n",
    "    - sort()\n",
    "    - index()\n",
    "    - copy()\n",
    "- comprehension   "
   ]
  },
  {
   "cell_type": "code",
   "execution_count": 65,
   "metadata": {},
   "outputs": [
    {
     "name": "stdout",
     "output_type": "stream",
     "text": [
      "[1, 2, 3] <class 'list'>\n",
      "['Alice', 'Bob', 'Charlie'] <class 'list'>\n",
      "['apple', 50, 'mango', 100, 'orange', 70]\n",
      "[[1, 2, 3], [4, 5, 6], [7, 8]]\n",
      "[1, 1, 1, 1, 1, 1, 1, 1, 1, 1]\n",
      "['v', 'e', 'r', 't', 'e', 'x']\n",
      "['welcome', 'to', 'listing']\n"
     ]
    }
   ],
   "source": [
    "a = [1,2,3]\n",
    "print(a, type(a))\n",
    "names = ['Alice', 'Bob', 'Charlie']\n",
    "print(names, type(names))\n",
    "data = ['apple', 50, 'mango', 100, 'orange', 70]\n",
    "nested_list = [[1,2,3],[4,5,6],[7,8]]\n",
    "print(data)\n",
    "print(nested_list)\n",
    "duplicated_list = [1] * 10\n",
    "print(duplicated_list)\n",
    "print(list('vertex'))\n",
    "print('welcome to listing'.split())"
   ]
  },
  {
   "cell_type": "code",
   "execution_count": 66,
   "metadata": {},
   "outputs": [
    {
     "name": "stdout",
     "output_type": "stream",
     "text": [
      "first five =  [11, 12, 13, 14, 15, 16, 17, 18, 19, 20]\n",
      "last five =  [16, 17, 18, 19, 20]\n",
      "last element =  20\n",
      "first element =  11\n",
      "except first 2 and last 2 =  [13, 14, 15, 16, 17, 18]\n",
      "reverse list =  [20, 19, 18, 17, 16, 15, 14, 13, 12, 11]\n",
      "all even indexes =  [11, 13, 15, 17, 19]\n",
      "all odd indexes =  [12, 14, 16, 18, 20]\n",
      "reverse first five =  [15, 14, 13, 12, 11]\n"
     ]
    }
   ],
   "source": [
    "n = [11,12,13,14,15,16,17,18,19,20]\n",
    "print('first five = ',n[:15])\n",
    "print('last five = ',n[-5:])\n",
    "print('last element = ',n[-1])\n",
    "print('first element = ',n[0])\n",
    "print('except first 2 and last 2 = ',n[2: -2])\n",
    "print('reverse list = ',n[::-1])\n",
    "print('all even indexes = ',n[::2])\n",
    "print('all odd indexes = ',n[1::2])\n",
    "print('reverse first five = ',n[4::-1])\n"
   ]
  },
  {
   "cell_type": "code",
   "execution_count": 67,
   "metadata": {},
   "outputs": [
    {
     "name": "stdout",
     "output_type": "stream",
     "text": [
      "[11, 12, 13, 14, 15, 100, 17, 18, 19, 20]\n",
      "[200, 12, 13, 14, 15, 100, 17, 18, 19, 20]\n"
     ]
    }
   ],
   "source": [
    "# list is mutable\n",
    "n[5] = 100  # update\n",
    "print(n)\n",
    "n[0] = 200\n",
    "print(n)"
   ]
  },
  {
   "cell_type": "code",
   "execution_count": 68,
   "metadata": {},
   "outputs": [
    {
     "name": "stdout",
     "output_type": "stream",
     "text": [
      "['apple', 'mango', 'orange']\n",
      "['custard apple', 'mango', 'orange']\n",
      "['custard apple', 'jackfruit', 'orange']\n"
     ]
    }
   ],
   "source": [
    "fruits = ['apple','mango','orange']\n",
    "print(fruits)\n",
    "fruits[0] = 'custard apple'\n",
    "print(fruits)\n",
    "fruits[1] = 'jackfruit'\n",
    "print(fruits)"
   ]
  },
  {
   "cell_type": "code",
   "execution_count": 69,
   "metadata": {},
   "outputs": [
    {
     "name": "stdout",
     "output_type": "stream",
     "text": [
      "<class 'list'>\n",
      "0\n",
      "['Star wars', 'Harry Potter', 'The core', 'Bullet Train', 'Jumanji']\n",
      "5\n"
     ]
    }
   ],
   "source": [
    "movies = []\n",
    "print(type(movies))\n",
    "print(len(movies))\n",
    "movies.append(\"Star wars\")\n",
    "movies.append(\"Harry Potter\")\n",
    "movies.append(\"The core\")\n",
    "movies.append(\"Bullet Train\")\n",
    "movies.append(\"Jumanji\")\n",
    "print(movies)\n",
    "print(len(movies))"
   ]
  },
  {
   "cell_type": "code",
   "execution_count": 70,
   "metadata": {},
   "outputs": [
    {
     "name": "stdout",
     "output_type": "stream",
     "text": [
      "['fast and furious', '2 fast 2 furious', 'fast and furious: Tokyo drift', 'fast 5', 'Fast and furious 6']\n",
      "['fast and furious', '2 fast 2 furious', 'fast and furious: Tokyo drift', 'fast and furious 4', 'fast 5', 'Fast and furious 6']\n"
     ]
    }
   ],
   "source": [
    "ff = ['fast and furious',\n",
    "     '2 fast 2 furious',\n",
    "     'fast and furious: Tokyo drift',\n",
    "     'fast 5']\n",
    "\n",
    "ff.append(\"Fast and furious 6\")\n",
    "print(ff)\n",
    "ff.insert(3, 'fast and furious 4')\n",
    "print(ff)     "
   ]
  },
  {
   "cell_type": "code",
   "execution_count": 71,
   "metadata": {},
   "outputs": [
    {
     "name": "stdout",
     "output_type": "stream",
     "text": [
      "[1, 2, 3, 4, 4, 5, 6, 7, 8, 9]\n",
      "[1, 2, 3, 4, 5, 4, 5, 6, 7, 8, 9]\n",
      "[1, 2, 3, 4, 5, 4, 5, 6, 7, 8, 9, 5]\n"
     ]
    }
   ],
   "source": [
    "n = [1,2,3,4,5,6,7,8,9]\n",
    "n.insert(3,4)  # on 3rd index, insert value = 4\n",
    "print(n)\n",
    "n.insert(4,5)   # on 5th index, insert value = 5\n",
    "print(n)\n",
    "n.insert(100,5)   # invalid index, so it will insert at the end\n",
    "print(n)"
   ]
  },
  {
   "cell_type": "code",
   "execution_count": 72,
   "metadata": {},
   "outputs": [
    {
     "name": "stdout",
     "output_type": "stream",
     "text": [
      "[1, 2, 3, 4, 5, 6]\n",
      "[4, 5, 6]\n",
      "[4, 5, 6, 7, 8, 9]\n",
      "[7, 8, 9, 1, 2, 3, 4, 5, 5]\n"
     ]
    }
   ],
   "source": [
    "# adding a list in a another list\n",
    "l1 = [1,2,3]\n",
    "l2 = [4,5,6]\n",
    "l3 = [7,8,9]\n",
    "l1.extend(l2)\n",
    "print(l1)\n",
    "print(l2)\n",
    "l2.extend(l3)\n",
    "print(l2)\n",
    "l3.extend([1,2,3,4,5,5])\n",
    "print(l3)"
   ]
  },
  {
   "cell_type": "markdown",
   "metadata": {},
   "source": [
    "10-jul-24"
   ]
  },
  {
   "cell_type": "code",
   "execution_count": 73,
   "metadata": {},
   "outputs": [
    {
     "name": "stdout",
     "output_type": "stream",
     "text": [
      "[1, 2, 4, 5, 4, 5, 6, 7, 8, 9, 5]\n",
      "[1, 2, 4, 4, 5, 6, 7, 8, 9, 5]\n"
     ]
    }
   ],
   "source": [
    "n.remove(3)  # search where is 3 and remove it\n",
    "print(n)\n",
    "n.remove(5)  # remove first 5\n",
    "print(n)"
   ]
  },
  {
   "cell_type": "code",
   "execution_count": 74,
   "metadata": {},
   "outputs": [
    {
     "name": "stdout",
     "output_type": "stream",
     "text": [
      "['Star wars', 'Harry Potter', 'Bullet Train', 'Jumanji']\n"
     ]
    }
   ],
   "source": [
    "movies.remove('The core')\n",
    "print(movies)"
   ]
  },
  {
   "cell_type": "code",
   "execution_count": 75,
   "metadata": {},
   "outputs": [
    {
     "data": {
      "text/plain": [
       "4"
      ]
     },
     "execution_count": 75,
     "metadata": {},
     "output_type": "execute_result"
    }
   ],
   "source": [
    "n.pop(3)"
   ]
  },
  {
   "cell_type": "code",
   "execution_count": 76,
   "metadata": {},
   "outputs": [
    {
     "name": "stdout",
     "output_type": "stream",
     "text": [
      "[1, 2, 4, 5, 6, 7, 8, 9, 5]\n"
     ]
    }
   ],
   "source": [
    "print(n)"
   ]
  },
  {
   "cell_type": "code",
   "execution_count": 77,
   "metadata": {},
   "outputs": [
    {
     "data": {
      "text/plain": [
       "5"
      ]
     },
     "execution_count": 77,
     "metadata": {},
     "output_type": "execute_result"
    }
   ],
   "source": [
    "n.pop()  # remove last element"
   ]
  },
  {
   "cell_type": "code",
   "execution_count": 78,
   "metadata": {},
   "outputs": [
    {
     "name": "stdout",
     "output_type": "stream",
     "text": [
      "['Star wars', 'Harry Potter', 'Bullet Train']\n"
     ]
    }
   ],
   "source": [
    "movies.pop()\n",
    "print(movies)"
   ]
  },
  {
   "cell_type": "code",
   "execution_count": 79,
   "metadata": {},
   "outputs": [
    {
     "name": "stdout",
     "output_type": "stream",
     "text": [
      "[]\n",
      "[]\n"
     ]
    }
   ],
   "source": [
    "n.clear()\n",
    "print(n)\n",
    "movies.clear()\n",
    "print(movies)"
   ]
  },
  {
   "cell_type": "code",
   "execution_count": 80,
   "metadata": {},
   "outputs": [
    {
     "name": "stdout",
     "output_type": "stream",
     "text": [
      "6\n",
      "6\n",
      "3\n",
      "0\n"
     ]
    }
   ],
   "source": [
    "x = [1,2,3,1,1,1,2,2,2,3,1,2,1,3,2]\n",
    "print(x.count(1))\n",
    "print(x.count(2))\n",
    "print(x.count(3))\n",
    "print(x.count(4))"
   ]
  },
  {
   "cell_type": "code",
   "execution_count": 81,
   "metadata": {},
   "outputs": [
    {
     "name": "stdout",
     "output_type": "stream",
     "text": [
      "[5, 4, 3, 2, 1]\n"
     ]
    }
   ],
   "source": [
    "y = [1,2,3,4,5]\n",
    "y.reverse()   # or y[::-1]\n",
    "print(y)"
   ]
  },
  {
   "cell_type": "code",
   "execution_count": 82,
   "metadata": {},
   "outputs": [
    {
     "name": "stdout",
     "output_type": "stream",
     "text": [
      "['Akbar', 'Rahul', 'Salman', 'Vijay']\n",
      "['Vijay', 'Salman', 'Rahul', 'Akbar']\n"
     ]
    }
   ],
   "source": [
    "names = ['Vijay','Salman','Rahul','Akbar']\n",
    "names.sort()\n",
    "print(names)\n",
    "names.sort(reverse=True)\n",
    "print(names)"
   ]
  },
  {
   "cell_type": "code",
   "execution_count": 83,
   "metadata": {},
   "outputs": [
    {
     "name": "stdout",
     "output_type": "stream",
     "text": [
      "['Goku', 'Naruto', 'Luffy', 'Ichigo', 'Natsu', 'Meliodas']\n",
      "2\n"
     ]
    }
   ],
   "source": [
    "heroes = ['Goku','Naruto','Luffy','Ichigo','Natsu','Meliodas']\n",
    "print(heroes)\n",
    "luffy_idx = heroes.index('Luffy')\n",
    "print(luffy_idx)"
   ]
  },
  {
   "cell_type": "code",
   "execution_count": 84,
   "metadata": {},
   "outputs": [
    {
     "name": "stdout",
     "output_type": "stream",
     "text": [
      "[1, 2, 3, 4, 5]\n",
      "[1, 2, 3, 4, 5]\n",
      "[1, 2, 3, 6]\n",
      "True\n",
      "False\n"
     ]
    }
   ],
   "source": [
    "x = [1,2,3]\n",
    "y = x           # y is a reference to x\n",
    "z = x.copy()     # z is a shallow copy of x\n",
    "x.append(4)\n",
    "y.append(5)\n",
    "z.append(6)\n",
    "print(x)\n",
    "print(y)\n",
    "print(z)\n",
    "print(x is y)\n",
    "print(x is z)\n"
   ]
  },
  {
   "cell_type": "markdown",
   "metadata": {},
   "source": [
    "comprehension"
   ]
  },
  {
   "cell_type": "code",
   "execution_count": 85,
   "metadata": {},
   "outputs": [
    {
     "name": "stdout",
     "output_type": "stream",
     "text": [
      "[1, 4, 9, 16, 25]\n"
     ]
    }
   ],
   "source": [
    "x = [1,2,3,4,5]\n",
    "x2 = []\n",
    "for i in x:\n",
    "    s = i**2\n",
    "    x2.append(s)\n",
    "print(x2)    "
   ]
  },
  {
   "cell_type": "code",
   "execution_count": 86,
   "metadata": {},
   "outputs": [
    {
     "name": "stdout",
     "output_type": "stream",
     "text": [
      "[1, 2, 4, 2, 31, 3, 6]\n",
      "[1, 4, 16, 4, 961, 9, 36]\n"
     ]
    }
   ],
   "source": [
    "x = [1,2,4,2,31,3,6]\n",
    "x2 = [i ** 2 for i in x]\n",
    "print(x)\n",
    "print(x2)"
   ]
  },
  {
   "cell_type": "code",
   "execution_count": 87,
   "metadata": {},
   "outputs": [
    {
     "name": "stdout",
     "output_type": "stream",
     "text": [
      "[1, 2, 3, 4, 5, 6, 7, 8, 9, 10]\n",
      "[-9, -8, -7, -6, -5, -4, -3, -2, -1, 0]\n"
     ]
    }
   ],
   "source": [
    "a = [1,2,3,4,5,6,7,8,9,10]\n",
    "b = [i -10 for i in a]\n",
    "print(a)\n",
    "print(b)"
   ]
  },
  {
   "cell_type": "code",
   "execution_count": 88,
   "metadata": {},
   "outputs": [
    {
     "name": "stdout",
     "output_type": "stream",
     "text": [
      "[65, 68, 59, 70, 80]\n",
      "['A', 'D', ';', 'F', 'P']\n"
     ]
    }
   ],
   "source": [
    "a = [65,68,59,70,80]\n",
    "b = [chr(i) for i in a]\n",
    "print(a)\n",
    "print(b)"
   ]
  },
  {
   "cell_type": "code",
   "execution_count": 89,
   "metadata": {},
   "outputs": [
    {
     "name": "stdout",
     "output_type": "stream",
     "text": [
      "['A', 1, 2, 3, 'B', 'C', 'D', 4, 5, 5, 1, 1, 2, 5, 6]\n",
      "[1, 2, 3, 4, 5, 5, 1, 1, 2, 5, 6]\n"
     ]
    }
   ],
   "source": [
    "crap_list = ['A',1,2,3,'B','C','D',4,5,5,1,1,2,5,6]\n",
    "clean_list = [i for i in crap_list if isinstance(i, int)]\n",
    "print(crap_list)\n",
    "print(clean_list)"
   ]
  },
  {
   "cell_type": "code",
   "execution_count": 90,
   "metadata": {},
   "outputs": [
    {
     "name": "stdout",
     "output_type": "stream",
     "text": [
      "[1, 12, 45, 56, 78, 89, 34, 356, 12]\n"
     ]
    }
   ],
   "source": [
    "# make all the input to a int list\n",
    "nums = [int(n) for n in input().split()]\n",
    "print(nums)"
   ]
  },
  {
   "cell_type": "markdown",
   "metadata": {},
   "source": [
    "Tuple"
   ]
  },
  {
   "cell_type": "code",
   "execution_count": 91,
   "metadata": {},
   "outputs": [
    {
     "name": "stdout",
     "output_type": "stream",
     "text": [
      "(1, 2, 3, 4, 5) <class 'tuple'>\n",
      "(1, 2, 3, 4) <class 'tuple'>\n",
      "(1,)\n",
      "(1, 1, 1, 1, 1)\n",
      "(1, 2, 3, 4, 5) <class 'tuple'>\n"
     ]
    }
   ],
   "source": [
    "a = (1,2,3,4,5)\n",
    "print(a, type(a))\n",
    "b = 1,2,3,4\n",
    "print(b, type(b))\n",
    "# single element tuple\n",
    "c = (1,)\n",
    "print(c)\n",
    "d = (1,) * 5 # tuple duplication\n",
    "print(d)\n",
    "e = tuple([1,2,3,4,5])\n",
    "print(e, type(e))"
   ]
  },
  {
   "cell_type": "code",
   "execution_count": 92,
   "metadata": {},
   "outputs": [
    {
     "name": "stdout",
     "output_type": "stream",
     "text": [
      "1\n",
      "2\n",
      "5\n",
      "(1, 2, 3)\n",
      "(4, 5)\n"
     ]
    }
   ],
   "source": [
    "print(a[0])\n",
    "print(a[1])\n",
    "print(a[-1])\n",
    "print(a[:3])\n",
    "print(a[3:])"
   ]
  },
  {
   "cell_type": "code",
   "execution_count": 93,
   "metadata": {},
   "outputs": [
    {
     "name": "stdout",
     "output_type": "stream",
     "text": [
      "4\n",
      "0\n",
      "5\n"
     ]
    }
   ],
   "source": [
    "x = (1,1,1,1,3,4,5,6,6)\n",
    "print(x.count(1))\n",
    "print(x.count(10))\n",
    "print(x.index(4))  # find index of 4"
   ]
  },
  {
   "cell_type": "markdown",
   "metadata": {},
   "source": [
    "tuple unpacking"
   ]
  },
  {
   "cell_type": "code",
   "execution_count": null,
   "metadata": {},
   "outputs": [],
   "source": []
  }
 ],
 "metadata": {
  "kernelspec": {
   "display_name": "Python 3",
   "language": "python",
   "name": "python3"
  },
  "language_info": {
   "codemirror_mode": {
    "name": "ipython",
    "version": 3
   },
   "file_extension": ".py",
   "mimetype": "text/x-python",
   "name": "python",
   "nbconvert_exporter": "python",
   "pygments_lexer": "ipython3",
   "version": "3.12.3"
  }
 },
 "nbformat": 4,
 "nbformat_minor": 2
}
