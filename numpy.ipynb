{
 "cells": [
  {
   "cell_type": "code",
   "execution_count": 1,
   "metadata": {},
   "outputs": [],
   "source": [
    "import numpy as np"
   ]
  },
  {
   "cell_type": "markdown",
   "metadata": {},
   "source": [
    "- create\n",
    "- basic operation\n",
    "- math operation\n",
    "- indexing and slicing\n",
    "- boolean filter"
   ]
  },
  {
   "cell_type": "code",
   "execution_count": 2,
   "metadata": {},
   "outputs": [
    {
     "name": "stdout",
     "output_type": "stream",
     "text": [
      "[1 2 3 4 5]\n",
      "(5,)\n"
     ]
    }
   ],
   "source": [
    "x = np.array([1,2,3,4,5])\n",
    "print(x)\n",
    "print(x.shape)"
   ]
  },
  {
   "cell_type": "code",
   "execution_count": 3,
   "metadata": {},
   "outputs": [
    {
     "name": "stdout",
     "output_type": "stream",
     "text": [
      "[[1 2 3]\n",
      " [4 5 6]]\n",
      "(2, 3)\n"
     ]
    }
   ],
   "source": [
    "a = np.array([[1,2,3],[4,5,6]])\n",
    "print(a)\n",
    "print(a.shape)"
   ]
  },
  {
   "cell_type": "code",
   "execution_count": 4,
   "metadata": {},
   "outputs": [
    {
     "name": "stdout",
     "output_type": "stream",
     "text": [
      "[[1 2 3]\n",
      " [4 5 6]\n",
      " [7 9 9]]\n",
      "(3, 3)\n"
     ]
    }
   ],
   "source": [
    "b = np.array([[1,2,3],[4,5,6],[7,9,9]])\n",
    "print(b)\n",
    "print(b.shape)"
   ]
  },
  {
   "cell_type": "code",
   "execution_count": 5,
   "metadata": {},
   "outputs": [
    {
     "name": "stdout",
     "output_type": "stream",
     "text": [
      "[[0 1 2 3 4 5 6 7 8 9]\n",
      " [0 1 2 3 4 5 6 7 8 9]\n",
      " [0 1 2 3 4 5 6 7 8 9]\n",
      " [0 1 2 3 4 5 6 7 8 9]\n",
      " [0 1 2 3 4 5 6 7 8 9]\n",
      " [0 1 2 3 4 5 6 7 8 9]\n",
      " [0 1 2 3 4 5 6 7 8 9]\n",
      " [0 1 2 3 4 5 6 7 8 9]\n",
      " [0 1 2 3 4 5 6 7 8 9]\n",
      " [0 1 2 3 4 5 6 7 8 9]]\n",
      "(10, 10)\n"
     ]
    }
   ],
   "source": [
    "z = [0,1,2,3,4,5,6,7,8,9]\n",
    "nz = np.array([z]*10)\n",
    "print(nz)\n",
    "print(nz.shape)"
   ]
  },
  {
   "cell_type": "markdown",
   "metadata": {},
   "source": [
    "- random\n",
    "- arange\n",
    "- linspace"
   ]
  },
  {
   "cell_type": "code",
   "execution_count": 6,
   "metadata": {},
   "outputs": [
    {
     "data": {
      "text/plain": [
       "array([[0.41117897, 0.31768604, 0.80687991],\n",
       "       [0.95124917, 0.310879  , 0.90348446],\n",
       "       [0.46671454, 0.73944115, 0.92487524]])"
      ]
     },
     "execution_count": 6,
     "metadata": {},
     "output_type": "execute_result"
    }
   ],
   "source": [
    "np.random.rand(3,3)"
   ]
  },
  {
   "cell_type": "code",
   "execution_count": 7,
   "metadata": {},
   "outputs": [
    {
     "name": "stdout",
     "output_type": "stream",
     "text": [
      "[[-3  4  1 -1  5]\n",
      " [-2 -3 -2  1 -3]\n",
      " [-5  3 -5 -2 -5]\n",
      " [ 1  0  5  3 -3]\n",
      " [-1 -3  3 -3 -5]]\n"
     ]
    }
   ],
   "source": [
    "r1 = np.random.randint(-5,6, (5,5))\n",
    "print(r1)"
   ]
  },
  {
   "cell_type": "code",
   "execution_count": 8,
   "metadata": {},
   "outputs": [
    {
     "data": {
      "text/plain": [
       "array([ 0. ,  0.5,  1. ,  1.5,  2. ,  2.5,  3. ,  3.5,  4. ,  4.5,  5. ,\n",
       "        5.5,  6. ,  6.5,  7. ,  7.5,  8. ,  8.5,  9. ,  9.5, 10. , 10.5,\n",
       "       11. , 11.5, 12. , 12.5, 13. , 13.5, 14. , 14.5, 15. , 15.5, 16. ,\n",
       "       16.5, 17. , 17.5, 18. , 18.5, 19. , 19.5, 20. , 20.5, 21. , 21.5,\n",
       "       22. , 22.5, 23. , 23.5, 24. , 24.5, 25. , 25.5, 26. , 26.5, 27. ,\n",
       "       27.5, 28. , 28.5, 29. , 29.5, 30. , 30.5, 31. , 31.5, 32. , 32.5,\n",
       "       33. , 33.5, 34. , 34.5, 35. , 35.5, 36. , 36.5, 37. , 37.5, 38. ,\n",
       "       38.5, 39. , 39.5, 40. , 40.5, 41. , 41.5, 42. , 42.5, 43. , 43.5,\n",
       "       44. , 44.5, 45. , 45.5, 46. , 46.5, 47. , 47.5, 48. , 48.5, 49. ,\n",
       "       49.5])"
      ]
     },
     "execution_count": 8,
     "metadata": {},
     "output_type": "execute_result"
    }
   ],
   "source": [
    "# start, stop, gap\n",
    "np.arange(0,50, .5)"
   ]
  },
  {
   "cell_type": "code",
   "execution_count": 9,
   "metadata": {},
   "outputs": [
    {
     "data": {
      "text/plain": [
       "array([ 0.        ,  0.50505051,  1.01010101,  1.51515152,  2.02020202,\n",
       "        2.52525253,  3.03030303,  3.53535354,  4.04040404,  4.54545455,\n",
       "        5.05050505,  5.55555556,  6.06060606,  6.56565657,  7.07070707,\n",
       "        7.57575758,  8.08080808,  8.58585859,  9.09090909,  9.5959596 ,\n",
       "       10.1010101 , 10.60606061, 11.11111111, 11.61616162, 12.12121212,\n",
       "       12.62626263, 13.13131313, 13.63636364, 14.14141414, 14.64646465,\n",
       "       15.15151515, 15.65656566, 16.16161616, 16.66666667, 17.17171717,\n",
       "       17.67676768, 18.18181818, 18.68686869, 19.19191919, 19.6969697 ,\n",
       "       20.2020202 , 20.70707071, 21.21212121, 21.71717172, 22.22222222,\n",
       "       22.72727273, 23.23232323, 23.73737374, 24.24242424, 24.74747475,\n",
       "       25.25252525, 25.75757576, 26.26262626, 26.76767677, 27.27272727,\n",
       "       27.77777778, 28.28282828, 28.78787879, 29.29292929, 29.7979798 ,\n",
       "       30.3030303 , 30.80808081, 31.31313131, 31.81818182, 32.32323232,\n",
       "       32.82828283, 33.33333333, 33.83838384, 34.34343434, 34.84848485,\n",
       "       35.35353535, 35.85858586, 36.36363636, 36.86868687, 37.37373737,\n",
       "       37.87878788, 38.38383838, 38.88888889, 39.39393939, 39.8989899 ,\n",
       "       40.4040404 , 40.90909091, 41.41414141, 41.91919192, 42.42424242,\n",
       "       42.92929293, 43.43434343, 43.93939394, 44.44444444, 44.94949495,\n",
       "       45.45454545, 45.95959596, 46.46464646, 46.96969697, 47.47474747,\n",
       "       47.97979798, 48.48484848, 48.98989899, 49.49494949, 50.        ])"
      ]
     },
     "execution_count": 9,
     "metadata": {},
     "output_type": "execute_result"
    }
   ],
   "source": [
    "# start, stop, number_of_items\n",
    "np.linspace(0,50, 100)"
   ]
  },
  {
   "cell_type": "markdown",
   "metadata": {},
   "source": [
    "array attributes\n",
    "- shape\n",
    "- dtype\n",
    "- ndim\n",
    "- size\n",
    "\n",
    "basic operations\n",
    "- sum\n",
    "- mean\n",
    "- min\n",
    "- max\n",
    "- std\n",
    "- reshape\n",
    "- transpose\n",
    "- flatten"
   ]
  },
  {
   "cell_type": "code",
   "execution_count": 10,
   "metadata": {},
   "outputs": [
    {
     "data": {
      "text/plain": [
       "dtype('int64')"
      ]
     },
     "execution_count": 10,
     "metadata": {},
     "output_type": "execute_result"
    }
   ],
   "source": [
    "x.dtype"
   ]
  },
  {
   "cell_type": "code",
   "execution_count": 11,
   "metadata": {},
   "outputs": [
    {
     "data": {
      "text/plain": [
       "dtype('float64')"
      ]
     },
     "execution_count": 11,
     "metadata": {},
     "output_type": "execute_result"
    }
   ],
   "source": [
    "x = np.random.rand(3,3)\n",
    "x.dtype"
   ]
  },
  {
   "cell_type": "code",
   "execution_count": 12,
   "metadata": {},
   "outputs": [
    {
     "data": {
      "text/plain": [
       "2"
      ]
     },
     "execution_count": 12,
     "metadata": {},
     "output_type": "execute_result"
    }
   ],
   "source": [
    "x.ndim"
   ]
  },
  {
   "cell_type": "code",
   "execution_count": 13,
   "metadata": {},
   "outputs": [
    {
     "data": {
      "text/plain": [
       "3"
      ]
     },
     "execution_count": 13,
     "metadata": {},
     "output_type": "execute_result"
    }
   ],
   "source": [
    "z = np.random.randint(1,5, (3,3,3))\n",
    "z.ndim"
   ]
  },
  {
   "cell_type": "code",
   "execution_count": 14,
   "metadata": {},
   "outputs": [
    {
     "data": {
      "text/plain": [
       "27"
      ]
     },
     "execution_count": 14,
     "metadata": {},
     "output_type": "execute_result"
    }
   ],
   "source": [
    "z.size    # total element in the array "
   ]
  },
  {
   "cell_type": "code",
   "execution_count": 15,
   "metadata": {},
   "outputs": [
    {
     "data": {
      "text/plain": [
       "np.int64(54)"
      ]
     },
     "execution_count": 15,
     "metadata": {},
     "output_type": "execute_result"
    }
   ],
   "source": [
    "z.sum()"
   ]
  },
  {
   "cell_type": "code",
   "execution_count": 16,
   "metadata": {},
   "outputs": [
    {
     "name": "stdout",
     "output_type": "stream",
     "text": [
      "2.3072335106617405\n",
      "[0.36706292 0.98292509 0.9572455 ]\n",
      "[1.75222025 0.55501326]\n",
      "0.3845389184436234\n",
      "0.7954149180273269\n",
      "0.03529556483919427\n",
      "0.25592106249375474\n",
      "0.06549559022793232\n"
     ]
    }
   ],
   "source": [
    "a = np.random.rand(2,3)\n",
    "print(a.sum())\n",
    "print(a.sum(axis=0))   # column-wise\n",
    "print(a.sum(axis=1))   # row-wise\n",
    "\n",
    "print(a.mean())\n",
    "print(a.max())\n",
    "print(a.min())\n",
    "print(a.std())\n",
    "print(a.var())\n",
    "# all the methods can be used with axis"
   ]
  },
  {
   "cell_type": "code",
   "execution_count": 17,
   "metadata": {},
   "outputs": [
    {
     "name": "stdout",
     "output_type": "stream",
     "text": [
      "[[80 73 17 78 76]\n",
      " [96 38 44 56 94]\n",
      " [44 88 32 57 92]\n",
      " [48 33 21 95 67]\n",
      " [24 78 98 55 58]]\n",
      "transpose\n",
      "[[80 96 44 48 24]\n",
      " [73 38 88 33 78]\n",
      " [17 44 32 21 98]\n",
      " [78 56 57 95 55]\n",
      " [76 94 92 67 58]]\n",
      "flattened\n",
      "[80 73 17 78 76 96 38 44 56 94 44 88 32 57 92 48 33 21 95 67 24 78 98 55\n",
      " 58]\n"
     ]
    }
   ],
   "source": [
    "z = np.random.randint(11,99, (5,5))\n",
    "print(z)\n",
    "print('transpose')\n",
    "print(z.transpose())   # or print(z.T)\n",
    "print('flattened')\n",
    "print(z.flatten())"
   ]
  },
  {
   "cell_type": "code",
   "execution_count": 18,
   "metadata": {},
   "outputs": [
    {
     "name": "stdout",
     "output_type": "stream",
     "text": [
      "[[8 2 6 8 4]\n",
      " [8 7 3 9 1]\n",
      " [6 7 8 9 9]\n",
      " [4 2 8 5 8]]\n",
      "[8 2 6 8 4 8 7 3 9 1 6 7 8 9 9 4 2 8 5 8]\n",
      "[[8 2 6 8]\n",
      " [4 8 7 3]\n",
      " [9 1 6 7]\n",
      " [8 9 9 4]\n",
      " [2 8 5 8]]\n",
      "[[8 2 6 8 4 8 7 3 9 1]\n",
      " [6 7 8 9 9 4 2 8 5 8]]\n",
      "[[8 2]\n",
      " [6 8]\n",
      " [4 8]\n",
      " [7 3]\n",
      " [9 1]\n",
      " [6 7]\n",
      " [8 9]\n",
      " [9 4]\n",
      " [2 8]\n",
      " [5 8]]\n"
     ]
    }
   ],
   "source": [
    "a = np.random.randint(1,10, (4,5))\n",
    "print(a)\n",
    "print(a.reshape(20))\n",
    "print(a.reshape(5,4))\n",
    "print(a.reshape(2,10))\n",
    "print(a.reshape(10,2))\n",
    "# print(a.reshape(5,2,2))"
   ]
  },
  {
   "cell_type": "code",
   "execution_count": 19,
   "metadata": {},
   "outputs": [
    {
     "name": "stdout",
     "output_type": "stream",
     "text": [
      "[[1 2]\n",
      " [3 4]]\n",
      "[[6 2]\n",
      " [6 3]]\n"
     ]
    }
   ],
   "source": [
    "a = np.array([[1,2],[3,4]])\n",
    "b = np.array([[6,2],[6,3]])\n",
    "print(a)\n",
    "print(b)"
   ]
  },
  {
   "cell_type": "code",
   "execution_count": 20,
   "metadata": {},
   "outputs": [
    {
     "name": "stdout",
     "output_type": "stream",
     "text": [
      "[[7 4]\n",
      " [9 7]]\n",
      "[[-5  0]\n",
      " [-3  1]]\n",
      "[[0.16666667 1.        ]\n",
      " [0.5        1.33333333]]\n",
      "[[ 6  4]\n",
      " [18 12]]\n",
      "[[18  8]\n",
      " [42 18]]\n",
      "[[18  8]\n",
      " [42 18]]\n"
     ]
    }
   ],
   "source": [
    "# when using 2 matrix, the shape must be the same\n",
    "print(a + b)\n",
    "print(a - b)\n",
    "print(a / b)   # element-wise divison\n",
    "print(a * b)   # element-wise multiplication\n",
    "print(a @ b)   # matrix multiplication\n",
    "print(a.dot(b))   # matrix multiplication"
   ]
  },
  {
   "cell_type": "code",
   "execution_count": 21,
   "metadata": {},
   "outputs": [
    {
     "name": "stdout",
     "output_type": "stream",
     "text": [
      "[[-9 -8]\n",
      " [-7 -6]]\n",
      "[[10 20]\n",
      " [30 40]]\n",
      "[[0.1 0.2]\n",
      " [0.3 0.4]]\n",
      "[[11 12]\n",
      " [13 14]]\n"
     ]
    }
   ],
   "source": [
    "# when using matrix and scalar\n",
    "print(a - 10)   # broadcasting\n",
    "print(a * 10)   # broadcasting\n",
    "print(a / 10)   # broadcasting\n",
    "print(a + 10)   # broadcasting"
   ]
  },
  {
   "cell_type": "code",
   "execution_count": 22,
   "metadata": {},
   "outputs": [
    {
     "name": "stdout",
     "output_type": "stream",
     "text": [
      "1\n",
      "4\n"
     ]
    }
   ],
   "source": [
    "# indexing\n",
    "print(a[0,0])\n",
    "print(a[-1,-1])"
   ]
  },
  {
   "cell_type": "markdown",
   "metadata": {},
   "source": [
    "syntax of slicing\n",
    "- arr[rowstart:rowstop:rowgap,columnstart:columnstop:columngap]"
   ]
  },
  {
   "cell_type": "code",
   "execution_count": 23,
   "metadata": {},
   "outputs": [
    {
     "name": "stdout",
     "output_type": "stream",
     "text": [
      "[[6 4 5 9 3]\n",
      " [7 8 4 6 2]\n",
      " [5 1 6 9 4]\n",
      " [7 5 8 8 4]\n",
      " [6 6 5 1 6]]\n",
      "[6 7 5 7 6]\n",
      "[3 2 4 4 6]\n",
      "[[6 4 5]\n",
      " [7 8 4]\n",
      " [5 1 6]\n",
      " [7 5 8]\n",
      " [6 6 5]]\n"
     ]
    }
   ],
   "source": [
    "# slicing\n",
    "x = np.random.randint(1,10, (5,5))\n",
    "print(x)\n",
    "print(x[:,0])  # first column\n",
    "print(x[:,-1])  # last column\n",
    "print(x[:,:3])  # first 3 columns"
   ]
  },
  {
   "cell_type": "code",
   "execution_count": 24,
   "metadata": {},
   "outputs": [
    {
     "name": "stdout",
     "output_type": "stream",
     "text": [
      "[array([[8, 4, 6],\n",
      "       [1, 6, 9],\n",
      "       [5, 8, 8]], dtype=int32)]\n"
     ]
    }
   ],
   "source": [
    "print([x[1:4,1:4]])"
   ]
  },
  {
   "cell_type": "markdown",
   "metadata": {},
   "source": [
    "boolean filter"
   ]
  },
  {
   "cell_type": "code",
   "execution_count": 25,
   "metadata": {},
   "outputs": [],
   "source": [
    "x = np.arange(1, 101).reshape(25,4)"
   ]
  },
  {
   "cell_type": "code",
   "execution_count": 26,
   "metadata": {},
   "outputs": [
    {
     "data": {
      "text/plain": [
       "array([[False, False, False, False],\n",
       "       [False, False, False, False],\n",
       "       [False, False, False, False],\n",
       "       [False, False, False, False],\n",
       "       [False, False, False, False],\n",
       "       [False, False, False, False],\n",
       "       [False, False, False, False],\n",
       "       [False, False, False, False],\n",
       "       [False, False, False, False],\n",
       "       [False, False, False, False],\n",
       "       [False, False, False, False],\n",
       "       [False, False, False, False],\n",
       "       [False,  True,  True,  True],\n",
       "       [ True,  True,  True,  True],\n",
       "       [ True,  True,  True,  True],\n",
       "       [ True,  True,  True,  True],\n",
       "       [ True,  True,  True,  True],\n",
       "       [ True,  True,  True,  True],\n",
       "       [ True,  True,  True,  True],\n",
       "       [ True,  True,  True,  True],\n",
       "       [ True,  True,  True,  True],\n",
       "       [ True,  True,  True,  True],\n",
       "       [ True,  True,  True,  True],\n",
       "       [ True,  True,  True,  True],\n",
       "       [ True,  True,  True,  True]])"
      ]
     },
     "execution_count": 26,
     "metadata": {},
     "output_type": "execute_result"
    }
   ],
   "source": [
    "x >= 50  # boolean filter"
   ]
  },
  {
   "cell_type": "code",
   "execution_count": 27,
   "metadata": {},
   "outputs": [
    {
     "data": {
      "text/plain": [
       "array([ 50,  51,  52,  53,  54,  55,  56,  57,  58,  59,  60,  61,  62,\n",
       "        63,  64,  65,  66,  67,  68,  69,  70,  71,  72,  73,  74,  75,\n",
       "        76,  77,  78,  79,  80,  81,  82,  83,  84,  85,  86,  87,  88,\n",
       "        89,  90,  91,  92,  93,  94,  95,  96,  97,  98,  99, 100])"
      ]
     },
     "execution_count": 27,
     "metadata": {},
     "output_type": "execute_result"
    }
   ],
   "source": [
    "x[x>=50]  # only value >=50"
   ]
  },
  {
   "cell_type": "code",
   "execution_count": 28,
   "metadata": {},
   "outputs": [
    {
     "data": {
      "text/plain": [
       "array([25, 26, 27, 28, 29, 30, 31, 32, 33, 34, 35, 36, 37, 38, 39, 40, 41,\n",
       "       42, 43, 44, 45, 46, 47, 48, 49, 50, 51, 52, 53, 54, 55, 56, 57, 58,\n",
       "       59, 60, 61, 62, 63, 64, 65, 66, 67, 68, 69, 70, 71, 72, 73, 74, 75])"
      ]
     },
     "execution_count": 28,
     "metadata": {},
     "output_type": "execute_result"
    }
   ],
   "source": [
    "x[(x>=25) & (x<=75)]   # bitwise & for multiple filters"
   ]
  },
  {
   "cell_type": "markdown",
   "metadata": {},
   "source": [
    "some more operation"
   ]
  },
  {
   "cell_type": "code",
   "execution_count": 31,
   "metadata": {},
   "outputs": [
    {
     "data": {
      "text/plain": [
       "array([[1., 0., 0., 0., 0.],\n",
       "       [0., 1., 0., 0., 0.],\n",
       "       [0., 0., 1., 0., 0.],\n",
       "       [0., 0., 0., 1., 0.],\n",
       "       [0., 0., 0., 0., 1.]])"
      ]
     },
     "execution_count": 31,
     "metadata": {},
     "output_type": "execute_result"
    }
   ],
   "source": [
    "np.eye(5)  # 5*5 numpy works from float by default"
   ]
  },
  {
   "cell_type": "code",
   "execution_count": 30,
   "metadata": {},
   "outputs": [
    {
     "data": {
      "text/plain": [
       "array([[1, 0, 0, 0, 0],\n",
       "       [0, 1, 0, 0, 0],\n",
       "       [0, 0, 1, 0, 0],\n",
       "       [0, 0, 0, 1, 0],\n",
       "       [0, 0, 0, 0, 1]])"
      ]
     },
     "execution_count": 30,
     "metadata": {},
     "output_type": "execute_result"
    }
   ],
   "source": [
    "np.eye(5, dtype=int)"
   ]
  },
  {
   "cell_type": "code",
   "execution_count": 41,
   "metadata": {},
   "outputs": [
    {
     "data": {
      "text/plain": [
       "array([[1, 0, 0, 0],\n",
       "       [0, 2, 0, 0],\n",
       "       [0, 0, 3, 0],\n",
       "       [0, 0, 0, 4]])"
      ]
     },
     "execution_count": 41,
     "metadata": {},
     "output_type": "execute_result"
    }
   ],
   "source": [
    "np.diag([1,2,3,4])"
   ]
  },
  {
   "cell_type": "code",
   "execution_count": 43,
   "metadata": {},
   "outputs": [],
   "source": [
    "np.set_printoptions(precision=3)"
   ]
  },
  {
   "cell_type": "code",
   "execution_count": 32,
   "metadata": {},
   "outputs": [
    {
     "data": {
      "text/plain": [
       "array([[0.89780911, 0.95832232, 0.98562385, 0.58030347],\n",
       "       [0.15177587, 0.9407387 , 0.33110904, 0.61153907],\n",
       "       [0.28224749, 0.55577174, 0.89528796, 0.18836827]])"
      ]
     },
     "execution_count": 32,
     "metadata": {},
     "output_type": "execute_result"
    }
   ],
   "source": [
    "np.random.rand(3,4)"
   ]
  },
  {
   "cell_type": "code",
   "execution_count": null,
   "metadata": {},
   "outputs": [],
   "source": []
  },
  {
   "cell_type": "code",
   "execution_count": 34,
   "metadata": {},
   "outputs": [
    {
     "data": {
      "text/plain": [
       "array([[1., 1., 1.],\n",
       "       [1., 1., 1.],\n",
       "       [1., 1., 1.]])"
      ]
     },
     "execution_count": 34,
     "metadata": {},
     "output_type": "execute_result"
    }
   ],
   "source": [
    "np.ones((3,3))   # 3*3"
   ]
  },
  {
   "cell_type": "code",
   "execution_count": 35,
   "metadata": {},
   "outputs": [
    {
     "data": {
      "text/plain": [
       "array([[1, 1, 1],\n",
       "       [1, 1, 1],\n",
       "       [1, 1, 1]])"
      ]
     },
     "execution_count": 35,
     "metadata": {},
     "output_type": "execute_result"
    }
   ],
   "source": [
    "np.ones((3,3), dtype=int)"
   ]
  },
  {
   "cell_type": "code",
   "execution_count": 33,
   "metadata": {},
   "outputs": [
    {
     "data": {
      "text/plain": [
       "array([[0., 0., 0.],\n",
       "       [0., 0., 0.],\n",
       "       [0., 0., 0.]])"
      ]
     },
     "execution_count": 33,
     "metadata": {},
     "output_type": "execute_result"
    }
   ],
   "source": [
    "np.zeros((3,3))  # 3*3"
   ]
  },
  {
   "cell_type": "code",
   "execution_count": 36,
   "metadata": {},
   "outputs": [
    {
     "data": {
      "text/plain": [
       "array([[ 0.84147098,  0.90929743,  0.14112001, -0.7568025 ],\n",
       "       [-0.95892427, -0.2794155 ,  0.6569866 ,  0.98935825],\n",
       "       [ 0.41211849, -0.54402111, -0.99999021, -0.53657292],\n",
       "       [ 0.42016704,  0.99060736,  0.65028784, -0.28790332],\n",
       "       [-0.96139749, -0.75098725,  0.14987721,  0.91294525],\n",
       "       [ 0.83665564, -0.00885131, -0.8462204 , -0.90557836],\n",
       "       [-0.13235175,  0.76255845,  0.95637593,  0.27090579],\n",
       "       [-0.66363388, -0.98803162, -0.40403765,  0.55142668],\n",
       "       [ 0.99991186,  0.52908269, -0.42818267, -0.99177885],\n",
       "       [-0.64353813,  0.29636858,  0.96379539,  0.74511316],\n",
       "       [-0.15862267, -0.91652155, -0.83177474,  0.01770193],\n",
       "       [ 0.85090352,  0.90178835,  0.12357312, -0.76825466],\n",
       "       [-0.95375265, -0.26237485,  0.67022918,  0.98662759],\n",
       "       [ 0.39592515, -0.55878905, -0.99975517, -0.521551  ],\n",
       "       [ 0.43616476,  0.99287265,  0.63673801, -0.30481062],\n",
       "       [-0.96611777, -0.7391807 ,  0.1673557 ,  0.92002604],\n",
       "       [ 0.82682868, -0.02655115, -0.85551998, -0.89792768],\n",
       "       [-0.11478481,  0.77389068,  0.95105465,  0.25382336],\n",
       "       [-0.67677196, -0.98514626, -0.38778164,  0.56610764],\n",
       "       [ 0.99952016,  0.51397846, -0.44411267, -0.99388865],\n",
       "       [-0.62988799,  0.31322878,  0.96836446,  0.73319032],\n",
       "       [-0.17607562, -0.92345845, -0.82181784,  0.0353983 ],\n",
       "       [ 0.86006941,  0.89399666,  0.10598751, -0.77946607],\n",
       "       [-0.94828214, -0.24525199,  0.68326171,  0.98358775],\n",
       "       [ 0.37960774, -0.57338187, -0.99920683, -0.50636564]])"
      ]
     },
     "execution_count": 36,
     "metadata": {},
     "output_type": "execute_result"
    }
   ],
   "source": [
    "np.sin(x)"
   ]
  },
  {
   "cell_type": "code",
   "execution_count": 37,
   "metadata": {},
   "outputs": [
    {
     "name": "stdout",
     "output_type": "stream",
     "text": [
      "[[ 0.54030231 -0.41614684 -0.9899925  -0.65364362]\n",
      " [ 0.28366219  0.96017029  0.75390225 -0.14550003]\n",
      " [-0.91113026 -0.83907153  0.0044257   0.84385396]\n",
      " [ 0.90744678  0.13673722 -0.75968791 -0.95765948]\n",
      " [-0.27516334  0.66031671  0.98870462  0.40808206]\n",
      " [-0.54772926 -0.99996083 -0.53283302  0.42417901]\n",
      " [ 0.99120281  0.64691932 -0.29213881 -0.96260587]\n",
      " [-0.74805753  0.15425145  0.91474236  0.83422336]\n",
      " [-0.01327675 -0.84857027 -0.90369221 -0.12796369]\n",
      " [ 0.76541405  0.95507364  0.26664293 -0.66693806]\n",
      " [-0.98733928 -0.39998531  0.5551133   0.99984331]\n",
      " [ 0.52532199 -0.43217794 -0.99233547 -0.64014434]\n",
      " [ 0.30059254  0.96496603  0.7421542  -0.16299078]\n",
      " [-0.91828279 -0.82930983  0.02212676  0.85322011]\n",
      " [ 0.89986683  0.11918014 -0.77108022 -0.95241298]\n",
      " [-0.25810164  0.67350716  0.98589658  0.39185723]\n",
      " [-0.56245385 -0.99964746 -0.5177698   0.44014302]\n",
      " [ 0.99339038  0.6333192  -0.30902273 -0.96725059]\n",
      " [-0.73619272  0.17171734  0.92175127  0.82433133]\n",
      " [-0.03097503 -0.85780309 -0.89597095 -0.11038724]\n",
      " [ 0.77668598  0.9496777   0.24954012 -0.6800235 ]\n",
      " [-0.98437664 -0.38369844  0.56975033  0.99937328]\n",
      " [ 0.51017704 -0.44807362 -0.99436746 -0.62644445]\n",
      " [ 0.3174287   0.96945937  0.73017356 -0.18043045]\n",
      " [-0.92514754 -0.81928825  0.03982088  0.86231887]]\n",
      "[[ 1.55740772e+00 -2.18503986e+00 -1.42546543e-01  1.15782128e+00]\n",
      " [-3.38051501e+00 -2.91006191e-01  8.71447983e-01 -6.79971146e+00]\n",
      " [-4.52315659e-01  6.48360827e-01 -2.25950846e+02 -6.35859929e-01]\n",
      " [ 4.63021133e-01  7.24460662e+00 -8.55993401e-01  3.00632242e-01]\n",
      " [ 3.49391565e+00 -1.13731371e+00  1.51589471e-01  2.23716094e+00]\n",
      " [-1.52749853e+00  8.85165604e-03  1.58815308e+00 -2.13489670e+00]\n",
      " [-1.33526407e-01  1.17875355e+00 -3.27370380e+00 -2.81429605e-01]\n",
      " [ 8.87142844e-01 -6.40533120e+00 -4.41695568e-01  6.61006041e-01]\n",
      " [-7.53130148e+01 -6.23498963e-01  4.73814720e-01  7.75047091e+00]\n",
      " [-8.40771255e-01  3.10309661e-01  3.61455441e+00 -1.11721493e+00]\n",
      " [ 1.60656699e-01  2.29138799e+00 -1.49838734e+00  1.77046993e-02]\n",
      " [ 1.61977519e+00 -2.08661353e+00 -1.24527568e-01  1.20012724e+00]\n",
      " [-3.17290855e+00 -2.71900612e-01  9.03086149e-01 -6.05327238e+00]\n",
      " [-4.31158197e-01  6.73800101e-01 -4.51830879e+01 -6.11273688e-01]\n",
      " [ 4.84699227e-01  8.33085685e+00 -8.25774009e-01  3.20040389e-01]\n",
      " [ 3.74316794e+00 -1.09750978e+00  1.69749752e-01  2.34786031e+00]\n",
      " [-1.47003826e+00  2.65605178e-02  1.65231726e+00 -2.04008160e+00]\n",
      " [-1.15548546e-01  1.22195992e+00 -3.07762040e+00 -2.62417378e-01]\n",
      " [ 9.19286404e-01 -5.73702254e+00 -4.20700951e-01  6.86747689e-01]\n",
      " [-3.22685758e+01 -5.99179998e-01  4.95677533e-01  9.00365495e+00]\n",
      " [-8.10994416e-01  3.29826407e-01  3.88059631e+00 -1.07818381e+00]\n",
      " [ 1.78870172e-01  2.40672971e+00 -1.44241747e+00  3.54205013e-02]\n",
      " [ 1.68582537e+00 -1.99520041e+00 -1.06587872e-01  1.24427006e+00]\n",
      " [-2.98738626e+00 -2.52978097e-01  9.35752472e-01 -5.45134011e+00]\n",
      " [-4.10321299e-01  6.99853654e-01 -2.50925350e+01 -5.87213915e-01]]\n",
      "[[1.54308063e+00 3.76219569e+00 1.00676620e+01 2.73082328e+01]\n",
      " [7.42099485e+01 2.01715636e+02 5.48317035e+02 1.49047916e+03]\n",
      " [4.05154203e+03 1.10132329e+04 2.99370709e+04 8.13773957e+04]\n",
      " [2.21206696e+05 6.01302142e+05 1.63450869e+06 4.44305526e+06]\n",
      " [1.20774764e+07 3.28299846e+07 8.92411505e+07 2.42582598e+08]\n",
      " [6.59407867e+08 1.79245642e+09 4.87240172e+09 1.32445611e+10]\n",
      " [3.60024497e+10 9.78648047e+10 2.66024120e+11 7.23128532e+11]\n",
      " [1.96566715e+12 5.34323729e+12 1.45244248e+13 3.94814801e+13]\n",
      " [1.07321790e+14 2.91730871e+14 7.93006726e+14 2.15561577e+15]\n",
      " [5.85957119e+15 1.59279659e+16 4.32967002e+16 1.17692633e+17]\n",
      " [3.19921747e+17 8.69637471e+17 2.36391973e+18 6.42580006e+18]\n",
      " [1.74671355e+19 4.74805971e+19 1.29065644e+20 3.50836796e+20]\n",
      " [9.53673286e+20 2.59235276e+21 7.04674541e+21 1.91550400e+22]\n",
      " [5.20687972e+22 1.41537665e+23 3.84739263e+23 1.04582975e+24]\n",
      " [2.84286000e+24 7.72769468e+24 2.10060520e+25 5.71003695e+25]\n",
      " [1.55214897e+26 4.21917833e+26 1.14689158e+27 3.11757454e+27]\n",
      " [8.47444622e+27 2.30359332e+28 6.26181585e+28 1.70213802e+29]\n",
      " [4.62689086e+29 1.25771934e+30 3.41883561e+30 9.29335873e+30]\n",
      " [2.52619682e+31 6.86691490e+31 1.86662100e+32 5.07400194e+32]\n",
      " [1.37925673e+33 3.74920850e+33 1.01914053e+34 2.77031119e+34]\n",
      " [7.53048657e+34 2.04699848e+35 5.56431877e+35 1.51253866e+36]\n",
      " [4.11150636e+36 1.11762330e+37 3.03801511e+37 8.25818127e+37]\n",
      " [2.24480641e+38 6.10201647e+38 1.65870005e+39 4.50881420e+39]\n",
      " [1.22562277e+40 3.33158811e+40 9.05619541e+40 2.46172914e+41]\n",
      " [6.69167360e+41 1.81898547e+42 4.94451516e+42 1.34405857e+43]]\n"
     ]
    }
   ],
   "source": [
    "print(np.cos(x))\n",
    "print(np.tan(x))\n",
    "print(np.cosh(x))"
   ]
  },
  {
   "cell_type": "code",
   "execution_count": 38,
   "metadata": {},
   "outputs": [],
   "source": [
    "t = np.arange(-10, 10, .05)\n",
    "x = np.sin(t)\n",
    "y = np.cos(t)"
   ]
  },
  {
   "cell_type": "code",
   "execution_count": 40,
   "metadata": {},
   "outputs": [
    {
     "data": {
      "text/plain": [
       "[<matplotlib.lines.Line2D at 0x1f7f4454440>]"
      ]
     },
     "execution_count": 40,
     "metadata": {},
     "output_type": "execute_result"
    },
    {
     "data": {
      "image/png": "[encoded data removed]",
      "text/plain": [
       "<Figure size 640x480 with 1 Axes>"
      ]
     },
     "metadata": {},
     "output_type": "display_data"
    }
   ],
   "source": [
    "import matplotlib.pyplot as plt\n",
    "\n",
    "plt.plot(t, x)\n",
    "plt.plot(t, y)"
   ]
  },
  {
   "cell_type": "markdown",
   "metadata": {},
   "source": [
    "visualization"
   ]
  },
  {
   "cell_type": "code",
   "execution_count": 69,
   "metadata": {},
   "outputs": [
    {
     "data": {
      "text/plain": [
       "<matplotlib.patches.Rectangle at 0x1f7fc90e300>"
      ]
     },
     "execution_count": 69,
     "metadata": {},
     "output_type": "execute_result"
    },
    {
     "data": {
      "image/png": "[encoded data removed]",
      "text/plain": [
       "<Figure size 640x480 with 1 Axes>"
      ]
     },
     "metadata": {},
     "output_type": "display_data"
    }
   ],
   "source": [
    "fig, ax = plt.subplots()\n",
    "fig.set_facecolor('yellow')\n",
    "ax.set_facecolor('white')\n",
    "\n",
    "ax.set_xlabel('Time')   # plt.xlabel('Time')\n",
    "ax.set_ylabel('Amplitude')   # plt.ylabel('Amplitude')\n",
    " \n",
    "ax.set_title('Sine Wave')  # plt.title('Sinusoidal Wave')\n",
    "\n",
    "x = [1,2,3,4,5,6,7,8,9,10]\n",
    "y = [23,56,67,34,12,56,23,56,78,23]\n",
    "\n",
    "ax.plot(x, y, \n",
    "        linewidth=.5, \n",
    "        markersize=10,\n",
    "        markerfacecolor='yellow',\n",
    "        markeredgecolor='black',\n",
    "        markeredgewidth=3,\n",
    "        color='green',\n",
    "        marker='h',\n",
    "        linestyle= ':',\n",
    "        alpha=.8)\n",
    "        # color=green\n",
    "        # alpha for transperancy\n",
    "        # marker= circle\n",
    "        # linestyle= ':','--','-'\n",
    "# horizontal line\n",
    "ax.axhline(50, linewidth=2, color='k', alpha=.4)        \n",
    "ax.axvline(3, linewidth=2, color='k', alpha=.4)       \n",
    "ax.text(3.2, 52, \"Above threshold\")\n",
    "ax.text(3.2, 46, \"below threshold\")\n",
    "# rectangle box  (axvspan,axhspan)\n",
    "ax.axvspan(3, 6, color='red', alpha=.2)\n",
    "ax.axvspan(0, 3, color='blue', alpha=.2)"
   ]
  },
  {
   "cell_type": "code",
   "execution_count": 70,
   "metadata": {},
   "outputs": [
    {
     "data": {
      "text/plain": [
       "Text(0.5, 1.0, 'Scatter Plot')"
      ]
     },
     "execution_count": 70,
     "metadata": {},
     "output_type": "execute_result"
    },
    {
     "data": {
      "image/png": "[encoded data removed]",
      "text/plain": [
       "<Figure size 1000x500 with 2 Axes>"
      ]
     },
     "metadata": {},
     "output_type": "display_data"
    }
   ],
   "source": [
    "fig, (ax1, ax2) = plt.subplots(1, 2, figsize=(10,5))   # 1 row, 2 columns\n",
    "x = np.arange(1, 101)\n",
    "y = np.random.uniform(1, 10, 100)\n",
    "ax1.plot(x,y)\n",
    "ax2.scatter(x, y, s=100, c='red', alpha=.5)\n",
    "ax1.set_title('Line Plot')\n",
    "ax2.set_title('Scatter Plot')"
   ]
  },
  {
   "cell_type": "code",
   "execution_count": null,
   "metadata": {},
   "outputs": [],
   "source": []
  }
 ],
 "metadata": {
  "kernelspec": {
   "display_name": "base",
   "language": "python",
   "name": "python3"
  },
  "language_info": {
   "codemirror_mode": {
    "name": "ipython",
    "version": 3
   },
   "file_extension": ".py",
   "mimetype": "text/x-python",
   "name": "python",
   "nbconvert_exporter": "python",
   "pygments_lexer": "ipython3",
   "version": "3.12.3"
  }
 },
 "nbformat": 4,
 "nbformat_minor": 2
}
