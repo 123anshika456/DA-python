{
 "cells": [
  {
   "cell_type": "code",
   "execution_count": 3,
   "metadata": {},
   "outputs": [],
   "source": [
    "import os"
   ]
  },
  {
   "cell_type": "code",
   "execution_count": 4,
   "metadata": {},
   "outputs": [
    {
     "name": "stdout",
     "output_type": "stream",
     "text": [
      "c:\\Users\\ANSHIKA SINGH\\Documents\\DA python\n"
     ]
    }
   ],
   "source": [
    "BASE_DIR = os.getcwd()\n",
    "print(BASE_DIR)"
   ]
  },
  {
   "cell_type": "code",
   "execution_count": 5,
   "metadata": {},
   "outputs": [
    {
     "name": "stdout",
     "output_type": "stream",
     "text": [
      "['.git', 'basics.ipynb', 'condition.ipynb', 'file handling.ipynb', 'functions.ipynb', 'io.ipynb', 'kahani.py', 'kahani2.py', 'list.ipynb', 'loops.ipynb', 'pattern1.py', 'practice question.ipynb', 'set_n_dict.ipynb', 'story.txt', 'strings.ipynb']\n"
     ]
    }
   ],
   "source": [
    "content = os.listdir()\n",
    "print(content)"
   ]
  },
  {
   "cell_type": "code",
   "execution_count": 6,
   "metadata": {},
   "outputs": [
    {
     "name": "stdout",
     "output_type": "stream",
     "text": [
      "total content: 24\n"
     ]
    }
   ],
   "source": [
    "addr = r'C:\\Program files'\n",
    "content = os.listdir(addr)\n",
    "print(f'total content: {len(content)}')"
   ]
  },
  {
   "cell_type": "markdown",
   "metadata": {},
   "source": []
  },
  {
   "cell_type": "code",
   "execution_count": 7,
   "metadata": {},
   "outputs": [
    {
     "data": {
      "text/plain": [
       "['C:\\\\', 'D:\\\\', 'E:\\\\']"
      ]
     },
     "execution_count": 7,
     "metadata": {},
     "output_type": "execute_result"
    }
   ],
   "source": [
    "os.listdrives()"
   ]
  },
  {
   "cell_type": "code",
   "execution_count": 8,
   "metadata": {},
   "outputs": [
    {
     "name": "stdout",
     "output_type": "stream",
     "text": [
      "['$RECYCLE.BIN', 'Music - Shortcut.lnk', 'mynotes', 'System Volume Information']\n"
     ]
    }
   ],
   "source": [
    "os.chdir(\"E:\")\n",
    "print(os.listdir())"
   ]
  },
  {
   "cell_type": "code",
   "execution_count": 9,
   "metadata": {},
   "outputs": [
    {
     "data": {
      "text/plain": [
       "'E:\\\\'"
      ]
     },
     "execution_count": 9,
     "metadata": {},
     "output_type": "execute_result"
    }
   ],
   "source": [
    "os.getcwd()"
   ]
  },
  {
   "cell_type": "code",
   "execution_count": 10,
   "metadata": {},
   "outputs": [],
   "source": [
    "os.makedirs(\"mynotes\", exist_ok=True)"
   ]
  },
  {
   "cell_type": "markdown",
   "metadata": {},
   "source": [
    "# python file handling\n",
    "'open()' - opens file resourses and returns a file object.\n",
    "- modes\n",
    "   - 'r' -read mode (default)\n",
    "   - 'w' -write mode\n",
    "   - 'a' -append mode "
   ]
  },
  {
   "cell_type": "code",
   "execution_count": 11,
   "metadata": {},
   "outputs": [],
   "source": [
    "with open('mynotes/note1.txt','w') as f:\n",
    "    f.write(\"This is my first note:\\n\")\n",
    "    f.write(\"Python file handling is super easy\\n\")\n",
    "    f.write(\"You can create and delete files easily\\n\")"
   ]
  },
  {
   "cell_type": "markdown",
   "metadata": {},
   "source": [
    "'''python\n",
    "with open('file.txt', 'w') as file:\n",
    "       file.write(kahani)\n",
    "'''    "
   ]
  },
  {
   "cell_type": "code",
   "execution_count": 12,
   "metadata": {},
   "outputs": [],
   "source": [
    "with open('mynotes/note1.txt','a') as f:\n",
    "    f.write(\"Os module is the best\\n\")\n",
    "    f.write(\"Python file handling is super easy\\n\")\n",
    "    f.write(\"🤩🤩🤩\\n\")"
   ]
  },
  {
   "cell_type": "code",
   "execution_count": 13,
   "metadata": {},
   "outputs": [
    {
     "name": "stdout",
     "output_type": "stream",
     "text": [
      "This is my first note:\n",
      "Python file handling is super easy\n",
      "You can create and delete files easily\n",
      "Os module is the best\n",
      "Python file handling is super easy\n",
      "🤩🤩🤩\n",
      "\n"
     ]
    }
   ],
   "source": [
    "with open(\"mynotes/note1.txt\") as file:\n",
    "    data =  file.read()\n",
    "print(data)"
   ]
  },
  {
   "cell_type": "code",
   "execution_count": 14,
   "metadata": {},
   "outputs": [
    {
     "name": "stdout",
     "output_type": "stream",
     "text": [
      "kahani = \"\"\n",
      "while True:\n",
      "    data = input('enter a story=>')\n",
      "    if len(data) == 0:\n",
      "        print(\"the end!\")\n",
      "        break\n",
      "    kahani += data + \"\\n\"\n",
      "\n",
      "print(\"The real story:\")\n",
      "print(kahani)   \n",
      " \n"
     ]
    }
   ],
   "source": [
    "with open(r'C:\\Users\\ANSHIKA SINGH\\Documents\\DA python\\kahani.py') as f:\n",
    "    data = f.read()\n",
    "print(data)    "
   ]
  },
  {
   "cell_type": "code",
   "execution_count": 16,
   "metadata": {},
   "outputs": [
    {
     "ename": "NameError",
     "evalue": "name 'pdfs' is not defined",
     "output_type": "error",
     "traceback": [
      "\u001b[1;31m---------------------------------------------------------------------------\u001b[0m",
      "\u001b[1;31mNameError\u001b[0m                                 Traceback (most recent call last)",
      "Cell \u001b[1;32mIn[16], line 3\u001b[0m\n\u001b[0;32m      1\u001b[0m items \u001b[38;5;241m=\u001b[39m os\u001b[38;5;241m.\u001b[39mlistdir(\u001b[38;5;124m'\u001b[39m\u001b[38;5;124mC:/Users/ANSHIKA SINGH/Downloads\u001b[39m\u001b[38;5;124m'\u001b[39m)\n\u001b[0;32m      2\u001b[0m \u001b[38;5;28mlist\u001b[39m(\u001b[38;5;28mfilter\u001b[39m(\u001b[38;5;28;01mlambda\u001b[39;00m file: file\u001b[38;5;241m.\u001b[39mendswith(\u001b[38;5;124m'\u001b[39m\u001b[38;5;124m.pdf\u001b[39m\u001b[38;5;124m'\u001b[39m),items))\n\u001b[1;32m----> 3\u001b[0m \u001b[38;5;28mprint\u001b[39m(pdfs)\n",
      "\u001b[1;31mNameError\u001b[0m: name 'pdfs' is not defined"
     ]
    }
   ],
   "source": [
    "items = os.listdir('C:/Users/ANSHIKA SINGH/Downloads')\n",
    "list(filter(lambda file: file.endswith('.pdf'),items))\n",
    "print(pdfs)"
   ]
  },
  {
   "cell_type": "code",
   "execution_count": 17,
   "metadata": {},
   "outputs": [
    {
     "ename": "NameError",
     "evalue": "name 'pdfs' is not defined",
     "output_type": "error",
     "traceback": [
      "\u001b[1;31m---------------------------------------------------------------------------\u001b[0m",
      "\u001b[1;31mNameError\u001b[0m                                 Traceback (most recent call last)",
      "Cell \u001b[1;32mIn[17], line 1\u001b[0m\n\u001b[1;32m----> 1\u001b[0m \u001b[38;5;28;01mfor\u001b[39;00m file \u001b[38;5;129;01min\u001b[39;00m pdfs:\n\u001b[0;32m      2\u001b[0m     path \u001b[38;5;241m=\u001b[39m \u001b[38;5;124mf\u001b[39m\u001b[38;5;124m'\u001b[39m\u001b[38;5;124mC:/Users/ANSHIKA SINGH/Downloads/\u001b[39m\u001b[38;5;132;01m{\u001b[39;00mfile\u001b[38;5;132;01m}\u001b[39;00m\u001b[38;5;124m'\u001b[39m\n\u001b[0;32m      3\u001b[0m     size \u001b[38;5;241m=\u001b[39m os\u001b[38;5;241m.\u001b[39mpath\u001b[38;5;241m.\u001b[39mgetsize(path)\n",
      "\u001b[1;31mNameError\u001b[0m: name 'pdfs' is not defined"
     ]
    }
   ],
   "source": [
    "for file in pdfs:\n",
    "    path = f'C:/Users/ANSHIKA SINGH/Downloads/{file}'\n",
    "    size = os.path.getsize(path)\n",
    "    print(f'{file:50} {size/1024:.2f} KB')"
   ]
  },
  {
   "cell_type": "code",
   "execution_count": null,
   "metadata": {},
   "outputs": [],
   "source": []
  }
 ],
 "metadata": {
  "kernelspec": {
   "display_name": "Python 3",
   "language": "python",
   "name": "python3"
  },
  "language_info": {
   "codemirror_mode": {
    "name": "ipython",
    "version": 3
   },
   "file_extension": ".py",
   "mimetype": "text/x-python",
   "name": "python",
   "nbconvert_exporter": "python",
   "pygments_lexer": "ipython3",
   "version": "3.12.3"
  }
 },
 "nbformat": 4,
 "nbformat_minor": 2
}
