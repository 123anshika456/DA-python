{
 "cells": [
  {
   "cell_type": "markdown",
   "metadata": {},
   "source": [
    "condition\n",
    "- if\n",
    "- if else\n",
    "- if elif\n",
    "- match case"
   ]
  },
  {
   "cell_type": "markdown",
   "metadata": {},
   "source": [
    "if expr :\n",
    "    statement 1\n",
    "    statement 2\n",
    "    ...\n",
    "    statement n"
   ]
  },
  {
   "cell_type": "code",
   "execution_count": 2,
   "metadata": {},
   "outputs": [
    {
     "name": "stdout",
     "output_type": "stream",
     "text": [
      "7\n",
      "You have a very big name\n"
     ]
    }
   ],
   "source": [
    "name = input(\"enter your name\")\n",
    "print(len(name))\n",
    "print(\"You have a very big name\")"
   ]
  },
  {
   "cell_type": "code",
   "execution_count": 7,
   "metadata": {},
   "outputs": [
    {
     "name": "stdout",
     "output_type": "stream",
     "text": [
      "consize name\n",
      "Standard name, nothing special\n"
     ]
    }
   ],
   "source": [
    "name = input(\"enter your name\")\n",
    "if (len(name)) == 0:\n",
    "    print(\"You dont have a name\")       \n",
    "if (len(name)) <= 4:\n",
    "    print(\"consize name\")     \n",
    "if (len(name)) < 10:\n",
    "    print(\"Standard name, nothing special\")\n",
    "if (len(name)) >= 10:\n",
    "    print(\"You have a very big name\")"
   ]
  },
  {
   "cell_type": "code",
   "execution_count": 9,
   "metadata": {},
   "outputs": [
    {
     "name": "stdout",
     "output_type": "stream",
     "text": [
      "even\n"
     ]
    }
   ],
   "source": [
    "num = int(input(\"enter a number\"))\n",
    "if num % 2 == 0:\n",
    "    print(\"even\")\n",
    "else:\n",
    "    print(\"odd\")    "
   ]
  },
  {
   "cell_type": "code",
   "execution_count": 14,
   "metadata": {},
   "outputs": [
    {
     "name": "stdout",
     "output_type": "stream",
     "text": [
      "welcome user\n"
     ]
    }
   ],
   "source": [
    "username = input(\"enter username\")\n",
    "password = input(\"enter password\")\n",
    "if username == \"admin\" and password ==\"admin\":\n",
    "   print(\"welcome user\")\n",
    "else:   \n",
    "    print(\"Kaun ho tum?\")"
   ]
  },
  {
   "cell_type": "code",
   "execution_count": 16,
   "metadata": {},
   "outputs": [
    {
     "name": "stdout",
     "output_type": "stream",
     "text": [
      "arey wah! you got *A grade*\n"
     ]
    }
   ],
   "source": [
    "# if - elif ladder\n",
    "marks = int(input(\"kitne number aaye aapke =>\"))\n",
    "if marks >= 85:\n",
    "    print(\"arey wah! you got *A grade*\")\n",
    "elif marks >= 70:\n",
    "    print(\"badhiya, B grade\") \n",
    "elif marks >= 50:\n",
    "    print(\"chalo pass to hue, C grade\")    \n",
    "else:\n",
    "    print(\"fail, better luck next year\")"
   ]
  },
  {
   "cell_type": "code",
   "execution_count": 1,
   "metadata": {},
   "outputs": [
    {
     "name": "stdout",
     "output_type": "stream",
     "text": [
      "welcome user 21893!\n"
     ]
    }
   ],
   "source": [
    "# nested condition\n",
    "username = input(\"username:\")\n",
    "password = input(\"password:\")\n",
    "if username != ' ' and password != ' ':\n",
    "   if username ==\"admin\":\n",
    "      if password ==\"admin\": \n",
    "         print(\"welcome user 21893!\")\n",
    "      else:\n",
    "         print(\"password do not match\")\n",
    "   else:\n",
    "      print(\"username doesnot exist\")\n",
    "else:\n",
    "    print(\"credentials cant ne blank\")              \n"
   ]
  },
  {
   "cell_type": "code",
   "execution_count": 20,
   "metadata": {},
   "outputs": [
    {
     "name": "stdout",
     "output_type": "stream",
     "text": [
      "You are a teenager\n"
     ]
    }
   ],
   "source": [
    "age = int(input('enter ur age:'))\n",
    "match age:\n",
    "      case 1|2|3|4|5:\n",
    "          print(\"You are still very young\")\n",
    "      case 10:\n",
    "          print(\"You should go and play outside\")    \n",
    "      case 20:\n",
    "          print(\"You are a teenager\") \n",
    "      case 30:\n",
    "          print(\"You are an adult, take responsibilities\")       \n",
    "      case _:\n",
    "          print(\"You are not worthy\")"
   ]
  }
 ],
 "metadata": {
  "kernelspec": {
   "display_name": "Python 3",
   "language": "python",
   "name": "python3"
  },
  "language_info": {
   "codemirror_mode": {
    "name": "ipython",
    "version": 3
   },
   "file_extension": ".py",
   "mimetype": "text/x-python",
   "name": "python",
   "nbconvert_exporter": "python",
   "pygments_lexer": "ipython3",
   "version": "3.12.3"
  }
 },
 "nbformat": 4,
 "nbformat_minor": 2
}
