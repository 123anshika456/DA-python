{
 "cells": [
  {
   "cell_type": "markdown",
   "metadata": {},
   "source": [
    "# strings\n",
    "- creation\n",
    "- indexing and slicing\n",
    "- methods"
   ]
  },
  {
   "cell_type": "code",
   "execution_count": 1,
   "metadata": {},
   "outputs": [
    {
     "name": "stdout",
     "output_type": "stream",
     "text": [
      "<class 'str'>\n"
     ]
    }
   ],
   "source": [
    "# single quoted\n",
    "a = 'apple'\n",
    "print(type(a))"
   ]
  },
  {
   "cell_type": "code",
   "execution_count": 2,
   "metadata": {},
   "outputs": [
    {
     "name": "stdout",
     "output_type": "stream",
     "text": [
      "<class 'str'>\n"
     ]
    }
   ],
   "source": [
    "# double quoted\n",
    "b = \"big apple\"\n",
    "print(type(b))"
   ]
  },
  {
   "cell_type": "code",
   "execution_count": 3,
   "metadata": {},
   "outputs": [
    {
     "name": "stdout",
     "output_type": "stream",
     "text": [
      "<class 'str'>\n"
     ]
    }
   ],
   "source": [
    "# triple quoted\n",
    "c = '''this is \n",
    "a string.\n",
    "and its in triple\n",
    "quotes'''\n",
    "print(type(c))"
   ]
  },
  {
   "cell_type": "code",
   "execution_count": 4,
   "metadata": {},
   "outputs": [
    {
     "name": "stdout",
     "output_type": "stream",
     "text": [
      "<class 'str'>\n"
     ]
    }
   ],
   "source": [
    "d = str(1293000)\n",
    "print(type(d))"
   ]
  },
  {
   "cell_type": "markdown",
   "metadata": {},
   "source": [
    "types of string\n",
    "- byte b'hello'\n",
    "- raw r'hello'\n",
    "- format f'hello{a}'"
   ]
  },
  {
   "cell_type": "code",
   "execution_count": 5,
   "metadata": {},
   "outputs": [
    {
     "name": "stdout",
     "output_type": "stream",
     "text": [
      "b'this is a byte string'\n",
      "this is \\n\\n\\n a byte string\n",
      "apple is a value\n"
     ]
    }
   ],
   "source": [
    "print(b'this is a byte string')\n",
    "print(r'this is \\n\\n\\n a byte string')\n",
    "print(f'{a} is a value')"
   ]
  },
  {
   "cell_type": "markdown",
   "metadata": {},
   "source": [
    "indexing\n",
    "\n",
    "    -5 -4 -3 -2 -1\n",
    "    a  p  p  l  e\n",
    "    e  1  2  3  4"
   ]
  },
  {
   "cell_type": "code",
   "execution_count": 6,
   "metadata": {},
   "outputs": [
    {
     "name": "stdout",
     "output_type": "stream",
     "text": [
      "g\n",
      "r\n",
      "e\n",
      "e\n",
      "k\n"
     ]
    }
   ],
   "source": [
    "word = 'greek'\n",
    "print(word[0])\n",
    "print(word[1])\n",
    "print(word[2])\n",
    "print(word[-2])\n",
    "print(word[-1])"
   ]
  },
  {
   "cell_type": "code",
   "execution_count": 7,
   "metadata": {},
   "outputs": [
    {
     "name": "stdout",
     "output_type": "stream",
     "text": [
      "d\n",
      "n\n"
     ]
    }
   ],
   "source": [
    "msg = \"Journey before destination\"\n",
    "print(msg[15])\n",
    "print(msg[-6])"
   ]
  },
  {
   "cell_type": "markdown",
   "metadata": {},
   "source": [
    "\"sequence[start:stop]\""
   ]
  },
  {
   "cell_type": "code",
   "execution_count": 8,
   "metadata": {},
   "outputs": [
    {
     "name": "stdout",
     "output_type": "stream",
     "text": [
      "Journey\n"
     ]
    }
   ],
   "source": [
    "print(msg[0:7])"
   ]
  },
  {
   "cell_type": "code",
   "execution_count": 9,
   "metadata": {},
   "outputs": [
    {
     "name": "stdout",
     "output_type": "stream",
     "text": [
      "Journey before\n"
     ]
    }
   ],
   "source": [
    "print(msg[0:14])"
   ]
  },
  {
   "cell_type": "code",
   "execution_count": 10,
   "metadata": {},
   "outputs": [
    {
     "name": "stdout",
     "output_type": "stream",
     "text": [
      "destination\n"
     ]
    }
   ],
   "source": [
    "print(msg[15:26])"
   ]
  },
  {
   "cell_type": "code",
   "execution_count": 11,
   "metadata": {},
   "outputs": [
    {
     "name": "stdout",
     "output_type": "stream",
     "text": [
      "destination\n"
     ]
    }
   ],
   "source": [
    "print(msg[15:])"
   ]
  },
  {
   "cell_type": "code",
   "execution_count": 12,
   "metadata": {},
   "outputs": [
    {
     "name": "stdout",
     "output_type": "stream",
     "text": [
      "rney before destination\n"
     ]
    }
   ],
   "source": [
    "print(msg[3:])"
   ]
  },
  {
   "cell_type": "code",
   "execution_count": 13,
   "metadata": {},
   "outputs": [
    {
     "name": "stdout",
     "output_type": "stream",
     "text": [
      "Vijay\n",
      "Deenanath\n",
      " Chauhan\n"
     ]
    }
   ],
   "source": [
    "name = 'Vijay Deenanath Chauhan'\n",
    "fname = name[0:5]\n",
    "mname = name[6:15]\n",
    "lname = name[15:]\n",
    "print(fname)\n",
    "print(mname)\n",
    "print(lname)"
   ]
  },
  {
   "cell_type": "code",
   "execution_count": 14,
   "metadata": {},
   "outputs": [
    {
     "name": "stdout",
     "output_type": "stream",
     "text": [
      "nahuahC htananeeD yajiV\n",
      "nhaChaaeDyjV\n",
      "ia ennt hua\n",
      " Deenanath Ch\n"
     ]
    }
   ],
   "source": [
    "# reverse\n",
    "print(name[::-1])\n",
    "\n",
    "# stop\n",
    "print(name[::-2])\n",
    "print(name[1::2])\n",
    "\n",
    "# leaving out the start and end\n",
    "print(name[5:-5])"
   ]
  },
  {
   "cell_type": "code",
   "execution_count": 15,
   "metadata": {},
   "outputs": [
    {
     "name": "stdout",
     "output_type": "stream",
     "text": [
      "5599.25\n"
     ]
    }
   ],
   "source": [
    "x = \"$5599.25 only\"\n",
    "y = x[1:9]\n",
    "print(float(y))"
   ]
  },
  {
   "cell_type": "markdown",
   "metadata": {},
   "source": [
    "# string methods\n",
    "- formatting\n",
    "  - upper()\n",
    "  - lower()\n",
    "  - capitalized()\n",
    "  - title \n",
    "  - swapcase\n",
    "  - casefold()\n",
    "  - centre()\n",
    "  - ljust()\n",
    "  - rjust()\n",
    "- validation\n",
    "- utility"
   ]
  },
  {
   "cell_type": "code",
   "execution_count": 16,
   "metadata": {},
   "outputs": [
    {
     "name": "stdout",
     "output_type": "stream",
     "text": [
      "LIFE IS BEAUTIFUL\n",
      "life is beautiful\n",
      "Life Is Beautiful\n",
      "Life is beautiful\n",
      "lIFE IS bEAUTIFUL\n",
      "life is beautiful\n",
      "                Life is Beautiful                 \n",
      "Life is Beautiful                                 \n",
      "                                 Life is Beautiful\n",
      "*********************************Life is Beautiful\n",
      "Life is Beautiful*********************************\n",
      "****************Life is Beautiful*****************\n"
     ]
    }
   ],
   "source": [
    "msg = 'Life is Beautiful'\n",
    "print(msg.upper())\n",
    "print(msg.lower())\n",
    "print(msg.title())\n",
    "print(msg.capitalize())\n",
    "print(msg.swapcase())\n",
    "print(msg.casefold())\n",
    "print(msg.center(50))\n",
    "print(msg.ljust(50))\n",
    "print(msg.rjust(50))\n",
    "print(msg.rjust(50,'*'))\n",
    "print(msg.ljust(50,'*'))\n",
    "print(msg.center(50,'*'))"
   ]
  },
  {
   "cell_type": "markdown",
   "metadata": {},
   "source": [
    "- validation method\n",
    "   - isalpha()\n",
    "   - isalnum()\n",
    "   - isnumeric()\n",
    "   - isdigit()\n",
    "   - isspace()\n",
    "   - isascii()\n",
    "   - isprintable()\n",
    "   - islower()\n",
    "   - isupper() "
   ]
  },
  {
   "cell_type": "code",
   "execution_count": 17,
   "metadata": {},
   "outputs": [
    {
     "name": "stdout",
     "output_type": "stream",
     "text": [
      "apple#123\n",
      "False\n",
      "False\n",
      "False\n",
      "False\n",
      "False\n",
      "True\n",
      "True\n",
      "True\n",
      "False\n"
     ]
    }
   ],
   "source": [
    "data = input(\"enter something\")\n",
    "print(data)\n",
    "print(data.isalpha())\n",
    "print(data.isalnum())\n",
    "print(data.isnumeric())\n",
    "print(data.isdigit())\n",
    "print(data.isspace())\n",
    "print(data.isascii())\n",
    "print(data.isprintable())\n",
    "print(data.islower())\n",
    "print(data.isupper())"
   ]
  },
  {
   "cell_type": "code",
   "execution_count": 19,
   "metadata": {},
   "outputs": [
    {
     "name": "stdout",
     "output_type": "stream",
     "text": [
      "0 = \u0000, True\n",
      "5 = \u0005, True\n",
      "10 = \n",
      ", True\n",
      "15 = \u000f, True\n",
      "20 = \u0014, True\n",
      "25 = \u0019, True\n",
      "30 = \u001e, True\n",
      "35 = #, True\n",
      "40 = (, True\n",
      "45 = -, True\n",
      "50 = 2, True\n",
      "55 = 7, True\n",
      "60 = <, True\n",
      "65 = A, True\n",
      "70 = F, True\n",
      "75 = K, True\n",
      "80 = P, True\n",
      "85 = U, True\n",
      "90 = Z, True\n",
      "95 = _, True\n",
      "100 = d, True\n",
      "105 = i, True\n",
      "110 = n, True\n",
      "115 = s, True\n",
      "120 = x, True\n",
      "125 = }, True\n",
      "130 = , False\n",
      "135 = , False\n",
      "140 = , False\n",
      "145 = , False\n",
      "150 = , False\n",
      "155 = , False\n",
      "160 =  , False\n",
      "165 = ¥, False\n",
      "170 = ª, False\n",
      "175 = ¯, False\n",
      "180 = ´, False\n",
      "185 = ¹, False\n",
      "190 = ¾, False\n",
      "195 = Ã, False\n",
      "200 = È, False\n",
      "205 = Í, False\n",
      "210 = Ò, False\n",
      "215 = ×, False\n",
      "220 = Ü, False\n",
      "225 = á, False\n",
      "230 = æ, False\n",
      "235 = ë, False\n",
      "240 = ð, False\n",
      "245 = õ, False\n",
      "250 = ú, False\n",
      "255 = ÿ, False\n",
      "260 = Ą, False\n",
      "265 = ĉ, False\n",
      "270 = Ď, False\n",
      "275 = ē, False\n"
     ]
    }
   ],
   "source": [
    "for i in range(0,280,5):\n",
    "    c = chr(i)\n",
    "    print(f'{i} = {c}, {c.isascii()}')"
   ]
  },
  {
   "cell_type": "markdown",
   "metadata": {},
   "source": [
    "- utility functions\n",
    "   - split()\n",
    "   - join()\n",
    "   - find()\n",
    "   - index()\n",
    "   - replace()\n",
    "   - count()\n",
    "   - strip()"
   ]
  },
  {
   "cell_type": "code",
   "execution_count": 3,
   "metadata": {},
   "outputs": [
    {
     "data": {
      "text/plain": [
       "['All', 'the', 'glitter', 'is', 'not', 'gold']"
      ]
     },
     "execution_count": 3,
     "metadata": {},
     "output_type": "execute_result"
    }
   ],
   "source": [
    "sentence = \"All the glitter is not gold\"\n",
    "sentence.split()"
   ]
  },
  {
   "cell_type": "code",
   "execution_count": 4,
   "metadata": {},
   "outputs": [
    {
     "name": "stdout",
     "output_type": "stream",
     "text": [
      "All\n",
      "the\n",
      "glitter\n",
      "is\n",
      "not\n",
      "gold\n"
     ]
    }
   ],
   "source": [
    "words = sentence.split()\n",
    "for word in words:\n",
    "    print(word)"
   ]
  },
  {
   "cell_type": "code",
   "execution_count": 6,
   "metadata": {},
   "outputs": [
    {
     "data": {
      "text/plain": [
       "['Life before Death', 'strength before Weakness', 'Jouney before Destination']"
      ]
     },
     "execution_count": 6,
     "metadata": {},
     "output_type": "execute_result"
    }
   ],
   "source": [
    "quote = \"Life before Death,strength before Weakness,Jouney before Destination\"\n",
    "quote.split(\",\")"
   ]
  },
  {
   "cell_type": "code",
   "execution_count": 7,
   "metadata": {},
   "outputs": [
    {
     "data": {
      "text/plain": [
       "[' Johnny Johnny, Yes Papa',\n",
       " 'Eating sugar, No Papa',\n",
       " 'Telling lies, No Papa',\n",
       " 'Open your mouth, Ha! Ha! Ha!']"
      ]
     },
     "execution_count": 7,
     "metadata": {},
     "output_type": "execute_result"
    }
   ],
   "source": [
    "poem = \"\"\" Johnny Johnny, Yes Papa\n",
    "Eating sugar, No Papa\n",
    "Telling lies, No Papa\n",
    "Open your mouth, Ha! Ha! Ha!\n",
    "\"\"\"\n",
    "\n",
    "poem.splitlines()"
   ]
  },
  {
   "cell_type": "code",
   "execution_count": 8,
   "metadata": {},
   "outputs": [
    {
     "name": "stdout",
     "output_type": "stream",
     "text": [
      "['c:', 'users', 'anshika', 'download', 'file.txt']\n",
      "c:/users/anshika/download/file.txt\n"
     ]
    }
   ],
   "source": [
    "addr = ['c:','users','anshika','download','file.txt']\n",
    "print(addr)\n",
    "full_addr = \"/\".join(addr)\n",
    "print(full_addr)"
   ]
  },
  {
   "cell_type": "markdown",
   "metadata": {},
   "source": [
    "wap to count all even sized words in a string enter by users"
   ]
  },
  {
   "cell_type": "code",
   "execution_count": 9,
   "metadata": {},
   "outputs": [
    {
     "name": "stdout",
     "output_type": "stream",
     "text": [
      "time 4\n"
     ]
    }
   ],
   "source": [
    "sentence = input(\"enter a sentence\")\n",
    "words = sentence.split()\n",
    "total = 0\n",
    "for word in words:\n",
    "     size = len(word)\n",
    "     if size%2 == 0:\n",
    "        total+=1\n",
    "print(word, size)        "
   ]
  },
  {
   "cell_type": "markdown",
   "metadata": {},
   "source": [
    "find() and index()"
   ]
  },
  {
   "cell_type": "code",
   "execution_count": 10,
   "metadata": {},
   "outputs": [
    {
     "name": "stdout",
     "output_type": "stream",
     "text": [
      "2\n",
      "10\n",
      "-1\n",
      "5\n",
      "2\n",
      "5\n"
     ]
    }
   ],
   "source": [
    "a = 'this is a message'\n",
    "print(a.find('is'))\n",
    "print(a.find('mess'))\n",
    "print(a.find('are'))\n",
    "print(a.find('is',3))  # start from index 3\n",
    "# index is same as find but it throws an error if not found\n",
    "print(a.index('is'))\n",
    "print(a.index('is',3)) # start from index 3"
   ]
  },
  {
   "cell_type": "code",
   "execution_count": 11,
   "metadata": {},
   "outputs": [
    {
     "name": "stdout",
     "output_type": "stream",
     "text": [
      "this is a message\n",
      "thwas was a message\n",
      "this is a letter\n",
      "khis is a lekter\n"
     ]
    }
   ],
   "source": [
    "print(a)\n",
    "b = a.replace(\"is\",\"was\")\n",
    "print(b)\n",
    "c = b.replace('message','letter').replace('was','is')  #chain\n",
    "print(c)\n",
    "d = c.replace('t','k',2)   # replace only first 2 occurences\n",
    "print(d)"
   ]
  },
  {
   "cell_type": "code",
   "execution_count": 12,
   "metadata": {},
   "outputs": [
    {
     "data": {
      "text/plain": [
       "'hello'"
      ]
     },
     "execution_count": 12,
     "metadata": {},
     "output_type": "execute_result"
    }
   ],
   "source": [
    "# replace as remove\n",
    "data = \"he!!!!llo\"\n",
    "data.replace('!','')  #remove all !"
   ]
  },
  {
   "cell_type": "markdown",
   "metadata": {},
   "source": [
    "wap to remove all vowels all vowels from a string"
   ]
  },
  {
   "cell_type": "code",
   "execution_count": 13,
   "metadata": {},
   "outputs": [
    {
     "name": "stdout",
     "output_type": "stream",
     "text": [
      "wlcm t my wrld\n"
     ]
    }
   ],
   "source": [
    "string = input(\"enter a sentence\")\n",
    "v = string.replace('a','').replace('e','').replace('i','').replace('o','').replace('u','')\n",
    "print(v)"
   ]
  },
  {
   "cell_type": "code",
   "execution_count": 14,
   "metadata": {},
   "outputs": [
    {
     "name": "stdout",
     "output_type": "stream",
     "text": [
      "4\n",
      "2\n",
      "1\n",
      "0\n"
     ]
    }
   ],
   "source": [
    "msg = 'one two three one two'\n",
    "print(msg.count(\"o\"))\n",
    "print(msg.count(\"one\"))\n",
    "print(msg.count(\"ee\"))\n",
    "print(msg.count(\"four\"))"
   ]
  },
  {
   "cell_type": "code",
   "execution_count": 15,
   "metadata": {},
   "outputs": [
    {
     "name": "stdout",
     "output_type": "stream",
     "text": [
      "7 anshika\n",
      "7 anshika\n"
     ]
    }
   ],
   "source": [
    "name = 'anshika'\n",
    "print(len(name),name)\n",
    "clean_name = name.strip()\n",
    "print(len(clean_name),clean_name)"
   ]
  },
  {
   "cell_type": "markdown",
   "metadata": {},
   "source": [
    "names = [\n",
    "    ' john',\n",
    "    ' alex',\n",
    "    ' jane',\n",
    "    'alexa ',\n",
    "    ' jacob', \n",
    "]\n",
    "\n",
    " display this data after removing all leading and trailing spaces and making it upper case"
   ]
  },
  {
   "cell_type": "code",
   "execution_count": 1,
   "metadata": {},
   "outputs": [
    {
     "name": "stdout",
     "output_type": "stream",
     "text": [
      "John\n",
      "Alex\n",
      "Jane\n",
      "Alexa\n",
      "Jacob\n"
     ]
    }
   ],
   "source": [
    "names = [\n",
    "    ' john',\n",
    "    ' alex',\n",
    "    ' jane',\n",
    "    'alexa ',\n",
    "    ' jacob', \n",
    "]\n",
    "for i in names:\n",
    "     clean_data = i.strip()\n",
    "     a = clean_data.title()\n",
    "     print(a)"
   ]
  },
  {
   "cell_type": "code",
   "execution_count": null,
   "metadata": {},
   "outputs": [],
   "source": []
  }
 ],
 "metadata": {
  "kernelspec": {
   "display_name": "Python 3",
   "language": "python",
   "name": "python3"
  },
  "language_info": {
   "codemirror_mode": {
    "name": "ipython",
    "version": 3
   },
   "file_extension": ".py",
   "mimetype": "text/x-python",
   "name": "python",
   "nbconvert_exporter": "python",
   "pygments_lexer": "ipython3",
   "version": "3.12.3"
  }
 },
 "nbformat": 4,
 "nbformat_minor": 2
}
